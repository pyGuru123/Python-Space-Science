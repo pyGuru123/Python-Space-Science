{
  "nbformat": 4,
  "nbformat_minor": 0,
  "metadata": {
    "colab": {
      "name": "solar system data.ipynb",
      "provenance": [],
      "authorship_tag": "ABX9TyOpnEHVUiFkfLdqPF6rGoTF",
      "include_colab_link": true
    },
    "kernelspec": {
      "name": "python3",
      "display_name": "Python 3"
    }
  },
  "cells": [
    {
      "cell_type": "markdown",
      "metadata": {
        "id": "view-in-github",
        "colab_type": "text"
      },
      "source": [
        "<a href=\"https://colab.research.google.com/github/pyGuru123/Python-Space-Science/blob/main/Solar%20System%20Open%20Data/solar_system_data.ipynb\" target=\"_parent\"><img src=\"https://colab.research.google.com/assets/colab-badge.svg\" alt=\"Open In Colab\"/></a>"
      ]
    },
    {
      "cell_type": "markdown",
      "metadata": {
        "id": "MW7YfRPfRXFQ"
      },
      "source": [
        "# Solar System Open Data"
      ]
    },
    {
      "cell_type": "markdown",
      "metadata": {
        "id": "VXeVK0IvRcDH"
      },
      "source": [
        "Solar System Open Data is a free database which you can use to get information on \r\n",
        "\r\n",
        "* Main bodies\r\n",
        "\r\n",
        "  All planets and their moons, all dwarfs planets and the main asteroids.\r\n",
        "\r\n",
        "* Physical characteristics\r\n",
        "\r\n",
        "  Dimensions, mass, flattening, gravity, inclination and temperature.\r\n",
        "\r\n",
        "* Orbital parameters\r\n",
        "\r\n",
        "  Semimajor axis, perihelion, aphelion, eccentricity, orbital period and orbital speed.\r\n",
        "\r\n",
        "* History\r\n",
        "\r\n",
        "  Discovery circumstances, discoverer(s), year discovered and provisional designation.\r\n",
        "\r\n",
        "* Family\r\n",
        "\r\n",
        "  For every body, all its satellites and the ability to navigate between satellites and the star.\r\n",
        "\r\n",
        "* Known objects count\r\n",
        "\r\n",
        "  Known count of each object type : planets, moons, asteroids, comets."
      ]
    },
    {
      "cell_type": "markdown",
      "metadata": {
        "id": "vRqcmjWeSA8N"
      },
      "source": [
        "Check out the api documentation here : [Solar System Open Data]('https://api.le-systeme-solaire.net/en/')"
      ]
    },
    {
      "cell_type": "markdown",
      "metadata": {
        "id": "VYxZdxVeSaHb"
      },
      "source": [
        "importing required libraries"
      ]
    },
    {
      "cell_type": "code",
      "metadata": {
        "id": "ARJVsYpzSZir"
      },
      "source": [
        "import requests\r\n",
        "from pprint import pprint"
      ],
      "execution_count": 42,
      "outputs": []
    },
    {
      "cell_type": "markdown",
      "metadata": {
        "id": "opzwngxGT1uZ"
      },
      "source": [
        "## Fetching all the bodies which are listed"
      ]
    },
    {
      "cell_type": "code",
      "metadata": {
        "id": "lw8FIwhuSfsK"
      },
      "source": [
        "url = 'https://api.le-systeme-solaire.net/rest/bodies/'\r\n",
        "r = requests.get(url)\r\n",
        "data = r.json()"
      ],
      "execution_count": 43,
      "outputs": []
    },
    {
      "cell_type": "code",
      "metadata": {
        "colab": {
          "base_uri": "https://localhost:8080/"
        },
        "id": "3sAnslb0TK5g",
        "outputId": "75a736db-f2c4-4239-c737-2f7c1f69bbe9"
      },
      "source": [
        "bodies = data['bodies']\r\n",
        "print(len(bodies))"
      ],
      "execution_count": 44,
      "outputs": [
        {
          "output_type": "stream",
          "text": [
            "286\n"
          ],
          "name": "stdout"
        }
      ]
    },
    {
      "cell_type": "code",
      "metadata": {
        "colab": {
          "base_uri": "https://localhost:8080/"
        },
        "id": "WKgPqc_DTOwR",
        "outputId": "131170ab-a1f4-4d6f-e5af-f6501db0065b"
      },
      "source": [
        "for body in bodies:\r\n",
        "    print(body['id'], body[\"englishName\"], end=',')"
      ],
      "execution_count": 45,
      "outputs": [
        {
          "output_type": "stream",
          "text": [
            "lune Moon,phobos Phobos,deimos Deimos,io Io,europe Europa,ganymede Ganymede,callisto Callisto,amalthee Amalthea,himalia Himalia,elara Elara,pasiphae Pasiphae,sinope Sinope,lysithea Lysithea,carme Carme,ananke Ananke,leda Leda,thebe Thebe,adrastee Adrastea,metis Metis,callirrhoe Callirrhoe,themisto Themisto,megaclite Megaclite,taygete Taygete,chaldene Chaldene,harpalyke Harpalyke,kalyke Kalyke,iocaste Iocaste,erinome Erinome,isonoe Isonoe,praxidike Praxidike,autonoe Autonoe,thyone Thyone,hermippe Hermippe,aitne Aitne,eurydome Eurydome,euanthe Euanthe,euporie Euporie,orthosie Orthosie,sponde Sponde,cale Kale,pasithee Pasithee,hegemone Hegemone,mneme Mneme,aoede Aoede,thelxinoe Thelxinoe,arche Arche,callichore Kallichore,helice Helike,carpo Carpo,eukelade Eukelade,cyllene Cyllene,core Kore,herse Herse,s2003j2 S/2003 J 2,eupheme Eupheme,s2003j4 S/2003 J 4,eirene Eirene,s2003j9 S/2003 J 9,s2003j10 S/2003 J 10,s2003j12 S/2003 J 12,philophrosyne Philophrosyne,s2003j16 S/2003 J 16,s2003j18 S/2003 J 18,s2003j19 S/2003 J 19,s2003j23 S/2003 J 23,mimas Mimas,encelade Enceladus,tethys Tethys,dione Dione,rhea Rhea,titan Titan,hyperion Hyperion,japet Iapetus,phoebe Phoebe,janus Janus,epimethee Epimetheus,helene Helene,telesto Telesto,calypso Calypso,atlas Atlas,promethee Prometheus,pandore Pandora,pan Pan,ymir Ymir,paaliaq Paaliaq,tarvos Tarvos,ijiraq Ijiraq,suttungr Suttungr,kiviuq Kiviuq,mundilfari Mundilfari,albiorix Albiorix,skathi Skathi,erriapo Erriapus,siarnaq Siarnaq,thrymr Thrymr,narvi Narvi,methone Methone,pallene Pallene,pollux Polydeuces,daphnis Daphnis,aegir Aegir,bebhionn Bebhionn,bergelmir Bergelmir,bestla Bestla,farbauti Farbauti,fenrir Fenrir,fornjot Fornjot,hati Hati,hyrrokkin Hyrrokkin,kari Kari,loge Loge,skoll Skoll,surtur Surtur,anthe Anthe,jarnsaxa Jarnsaxa,greip Greip,tarqeq Tarqeq,egeon Aegaeon,s2004s7 S/2004 S 7,s2004s12 S/2004 S 12,s2004s13 S/2004 S 13,s2004s17 S/2004 S 17,s2006s1 S/2006 S 1,s2006s3 S/2006 S 3,s2007s2 S/2007 S 2,s2007s3 S/2007 S 3,s2009s1 S/2009 S 1,ariel Ariel,umbriel Umbriel,titania Titania,oberon Oberon,miranda Miranda,cordelia Cordelia,ophelia Ophelia,bianca Bianca,cressida Cressida,desdemona Desdemona,juliet Juliet,portia Portia,rosalind Rosalind,belinda Belinda,puck Puck,caliban Caliban,sycorax Sycorax,prospero Prospero,setebos Setebos,stephano Stephano,trinculo Trinculo,francisco Francisco,margaret Margaret,ferdinand Ferdinand,perdita Perdita,mab Mab,cupid Cupid,triton Triton,nereide Nereid,naiade Naiad,thalassa Thalassa,despina Despina,galatee Galatea,larissa Larissa,protee Proteus,halimede Halimede,psamathee Psamathe,sao Sao,laomedie Laomedeia,neso Neso,charon Charon,nix Nix,hydra Hydra,namaka Namaka,hiiaka Hiʻiaka,dysnomie Dysnomia,dia Dia,s2004s3 S/2004 S 3,s2004s4 S/2004 S 4,s2004s6 S/2004 S 6,s2010j1 S/2010 J 1,s2010j2 S/2010 J 2,ceres 1 Ceres,hebe 6 Hebe,lempo 47171 Lempo,petitprince The Little Prince,pulcova 762 Pulcova,toutatis 4179 Toutatis,quaoar 50000 Quaoar,steins 2867 Šteins,eris 136199 Eris,astree 5 Astraea,pholus 5145 Pholus,castalia 4769 Castalia,remus Remus,hector 624 Hektor,kleopatra 216 Kleopatra,cruithne 3753 Cruithne,junon 3 Junon,hygie 10 Hygiea,lutetia 21 Lutetia,mathilde 253 Mathilde,uranus Uranus,iris 7 Iris,eros 433 Eros,vanth Vanth,sedna 90377 Sedna,chariklo 10199 Chariklo,sylvia 87 Sylvia,dactyl (243) Ida I Dactyl,orcus 90482 Orcus,pluton Pluto,damocles 5335 Damocles,romulus Romulus,alexhelios Alexhelios,cleoselene Cleoselene,flore 8 Flora,chiron 2060 Chiron,eureka 5261 Eureka,achille 588 Achilles,weywot Weywot,ixion 28978 Ixion,neptune Neptune,sl9 Shoemaker-Levy 9,9metis 9 Metis,haumea 136108 Haumea,nessus 7066 Nessus,itokawa 25143 Itokawa,hylonome 10370 Hylonome,eugenia 45 Eugenia,2006SQ372 (308933) 2006 SQ372,pallas 2 Pallas,asbolus 8405 Asbolus,varuna 20000 Varuna,vesta 4 Vesta,ida 243 Ida,hyakutake Comet Hyakutake,gaspra 951 Gaspra,albion 15760 Albion,makemake 136472 Makemake,halley Halley's Comet,jupiter Jupiter,mars Mars,mercure Mercury,saturne Saturn,soleil Sun,terre Earth,venus Venus,kerberos Kerberos,s2011j1 S/2011 J 1,s2011j2 S/2011 J 2,styx Styx,hippocampe Hippocamp,mk2 S/2015 (136472) 1,s2017j1 S/2017 J 1,s2016j1 S/2016 J 1,valetudo Valetudo,s2017j2 S/2017 J 2,s2017j3 S/2017 J 3,pandia Pandia,s2017j5 S/2017 J 5,s2017j6 S/2017 J 6,s2017j7 S/2017 J 7,s2017j8 S/2017 J 8,s2017j9 S/2017 J 9,ersa Ersa,arrokoth Arrokoth,benou 101955 Bennu,s2004s22 ,s2004s21 ,s2004s20 ,s2004s23 ,s2004s24 ,s2004s25 ,s2004s26 ,s2004s27 ,s2004s28 ,s2004s29 ,s2004s30 ,s2004s31 ,s2004s32 ,s2004s33 ,s2004s34 ,s2004s35 ,s2004s36 ,s2004s37 ,s2004s38 ,s2004s39 ,c2020f3-neowise ,"
          ],
          "name": "stdout"
        }
      ]
    },
    {
      "cell_type": "markdown",
      "metadata": {
        "id": "SuAyhLivT5KY"
      },
      "source": [
        "## Fetching body info by id"
      ]
    },
    {
      "cell_type": "code",
      "metadata": {
        "colab": {
          "base_uri": "https://localhost:8080/"
        },
        "id": "P8MZP5owUEPE",
        "outputId": "be2d4236-09b8-4eac-d905-3acf9dcb790a"
      },
      "source": [
        "body = 'uranus'\r\n",
        "url = f'https://api.le-systeme-solaire.net/rest/bodies/{body}'\r\n",
        "r = requests.get(url)\r\n",
        "data = r.json()\r\n",
        "pprint(data)"
      ],
      "execution_count": 46,
      "outputs": [
        {
          "output_type": "stream",
          "text": [
            "{'alternativeName': '',\n",
            " 'aphelion': 3006318143,\n",
            " 'aroundPlanet': None,\n",
            " 'axialTilt': 97.77,\n",
            " 'density': 1.27,\n",
            " 'dimension': '',\n",
            " 'discoveredBy': 'William Herschel',\n",
            " 'discoveryDate': '13/03/1781',\n",
            " 'eccentricity': 0.0457,\n",
            " 'englishName': 'Uranus',\n",
            " 'equaRadius': 25559.0,\n",
            " 'escape': 21380.0,\n",
            " 'flattening': 0.02293,\n",
            " 'gravity': 8.87,\n",
            " 'id': 'uranus',\n",
            " 'inclination': 0.772,\n",
            " 'isPlanet': True,\n",
            " 'mass': {'massExponent': 25, 'massValue': 8.68127},\n",
            " 'meanRadius': 25362.0,\n",
            " 'moons': [{'moon': 'Ariel',\n",
            "            'rel': 'https://api.le-systeme-solaire.net/rest/bodies/ariel'},\n",
            "           {'moon': 'Umbriel',\n",
            "            'rel': 'https://api.le-systeme-solaire.net/rest/bodies/umbriel'},\n",
            "           {'moon': 'Titania',\n",
            "            'rel': 'https://api.le-systeme-solaire.net/rest/bodies/titania'},\n",
            "           {'moon': 'Obéron',\n",
            "            'rel': 'https://api.le-systeme-solaire.net/rest/bodies/oberon'},\n",
            "           {'moon': 'Miranda',\n",
            "            'rel': 'https://api.le-systeme-solaire.net/rest/bodies/miranda'},\n",
            "           {'moon': 'Cordélia',\n",
            "            'rel': 'https://api.le-systeme-solaire.net/rest/bodies/cordelia'},\n",
            "           {'moon': 'Ophélie',\n",
            "            'rel': 'https://api.le-systeme-solaire.net/rest/bodies/ophelia'},\n",
            "           {'moon': 'Bianca',\n",
            "            'rel': 'https://api.le-systeme-solaire.net/rest/bodies/bianca'},\n",
            "           {'moon': 'Cressida',\n",
            "            'rel': 'https://api.le-systeme-solaire.net/rest/bodies/cressida'},\n",
            "           {'moon': 'Desdémone',\n",
            "            'rel': 'https://api.le-systeme-solaire.net/rest/bodies/desdemona'},\n",
            "           {'moon': 'Juliette',\n",
            "            'rel': 'https://api.le-systeme-solaire.net/rest/bodies/juliet'},\n",
            "           {'moon': 'Portia',\n",
            "            'rel': 'https://api.le-systeme-solaire.net/rest/bodies/portia'},\n",
            "           {'moon': 'Rosalinde',\n",
            "            'rel': 'https://api.le-systeme-solaire.net/rest/bodies/rosalind'},\n",
            "           {'moon': 'Belinda',\n",
            "            'rel': 'https://api.le-systeme-solaire.net/rest/bodies/belinda'},\n",
            "           {'moon': 'Puck',\n",
            "            'rel': 'https://api.le-systeme-solaire.net/rest/bodies/puck'},\n",
            "           {'moon': 'Caliban',\n",
            "            'rel': 'https://api.le-systeme-solaire.net/rest/bodies/caliban'},\n",
            "           {'moon': 'Sycorax',\n",
            "            'rel': 'https://api.le-systeme-solaire.net/rest/bodies/sycorax'},\n",
            "           {'moon': 'Prospero',\n",
            "            'rel': 'https://api.le-systeme-solaire.net/rest/bodies/prospero'},\n",
            "           {'moon': 'Setebos',\n",
            "            'rel': 'https://api.le-systeme-solaire.net/rest/bodies/setebos'},\n",
            "           {'moon': 'Stephano',\n",
            "            'rel': 'https://api.le-systeme-solaire.net/rest/bodies/stephano'},\n",
            "           {'moon': 'Trinculo',\n",
            "            'rel': 'https://api.le-systeme-solaire.net/rest/bodies/trinculo'},\n",
            "           {'moon': 'Francisco',\n",
            "            'rel': 'https://api.le-systeme-solaire.net/rest/bodies/francisco'},\n",
            "           {'moon': 'Margaret',\n",
            "            'rel': 'https://api.le-systeme-solaire.net/rest/bodies/margaret'},\n",
            "           {'moon': 'Ferdinand',\n",
            "            'rel': 'https://api.le-systeme-solaire.net/rest/bodies/ferdinand'},\n",
            "           {'moon': 'Perdita',\n",
            "            'rel': 'https://api.le-systeme-solaire.net/rest/bodies/perdita'},\n",
            "           {'moon': 'Mab',\n",
            "            'rel': 'https://api.le-systeme-solaire.net/rest/bodies/mab'},\n",
            "           {'moon': 'Cupid',\n",
            "            'rel': 'https://api.le-systeme-solaire.net/rest/bodies/cupid'}],\n",
            " 'name': 'Uranus',\n",
            " 'perihelion': 2734998229,\n",
            " 'polarRadius': 24973.0,\n",
            " 'semimajorAxis': 2870658186,\n",
            " 'sideralOrbit': 30685.4,\n",
            " 'sideralRotation': -17.24,\n",
            " 'vol': {'volExponent': 13, 'volValue': 6.833}}\n"
          ],
          "name": "stdout"
        }
      ]
    },
    {
      "cell_type": "markdown",
      "metadata": {
        "id": "RA1gcp0mYLky"
      },
      "source": [
        "Name"
      ]
    },
    {
      "cell_type": "code",
      "metadata": {
        "colab": {
          "base_uri": "https://localhost:8080/"
        },
        "id": "WvsFjzgAYM0a",
        "outputId": "fa931581-47e9-4d41-d673-6df5830d9c50"
      },
      "source": [
        "print(data['englishName'])\r\n",
        "print(data['isPlanet'])"
      ],
      "execution_count": 47,
      "outputs": [
        {
          "output_type": "stream",
          "text": [
            "Uranus\n",
            "True\n"
          ],
          "name": "stdout"
        }
      ]
    },
    {
      "cell_type": "markdown",
      "metadata": {
        "id": "EJANVWVkUfTa"
      },
      "source": [
        "Number of moons"
      ]
    },
    {
      "cell_type": "code",
      "metadata": {
        "colab": {
          "base_uri": "https://localhost:8080/"
        },
        "id": "96Yv5rRWUNWL",
        "outputId": "1812116c-e815-4b3b-af06-19eeba7e4182"
      },
      "source": [
        "if data['moons'] != None:\r\n",
        "    all_moons = []\r\n",
        "    num_moons = len(data['moons'])\r\n",
        "    for moon in data['moons']:\r\n",
        "        all_moons.append(moon['moon'])\r\n",
        "    print(num_moons)\r\n",
        "    print(all_moons)\r\n",
        "else:\r\n",
        "\tprint(0)"
      ],
      "execution_count": 48,
      "outputs": [
        {
          "output_type": "stream",
          "text": [
            "27\n",
            "['Ariel', 'Umbriel', 'Titania', 'Obéron', 'Miranda', 'Cordélia', 'Ophélie', 'Bianca', 'Cressida', 'Desdémone', 'Juliette', 'Portia', 'Rosalinde', 'Belinda', 'Puck', 'Caliban', 'Sycorax', 'Prospero', 'Setebos', 'Stephano', 'Trinculo', 'Francisco', 'Margaret', 'Ferdinand', 'Perdita', 'Mab', 'Cupid']\n"
          ],
          "name": "stdout"
        }
      ]
    },
    {
      "cell_type": "markdown",
      "metadata": {
        "id": "UX9aNtLrWAV4"
      },
      "source": [
        "Axes Information\r\n",
        "\r\n",
        "check units from documentation : [Solar System Open Data]('https://api.le-systeme-solaire.net/en/')"
      ]
    },
    {
      "cell_type": "code",
      "metadata": {
        "colab": {
          "base_uri": "https://localhost:8080/"
        },
        "id": "KTBKxDhiVrVa",
        "outputId": "a97d1879-7ee9-48e2-be5f-9749fccef0c5"
      },
      "source": [
        "print('semi major axis :', data['semimajorAxis'])\r\n",
        "print('polar Radius :', data['polarRadius'])\r\n",
        "print('sideral Orbit :', data['sideralOrbit'])\r\n",
        "print('sideralRotation :', data['sideralRotation'])"
      ],
      "execution_count": 49,
      "outputs": [
        {
          "output_type": "stream",
          "text": [
            "semi major axis : 2870658186\n",
            "polar Radius : 24973.0\n",
            "sideral Orbit : 30685.4\n",
            "sideralRotation : -17.24\n"
          ],
          "name": "stdout"
        }
      ]
    },
    {
      "cell_type": "markdown",
      "metadata": {
        "id": "NpsE86J2XIt7"
      },
      "source": [
        "Body Information"
      ]
    },
    {
      "cell_type": "code",
      "metadata": {
        "colab": {
          "base_uri": "https://localhost:8080/"
        },
        "id": "AdwyIgkuXLso",
        "outputId": "4e8605ce-c11e-4065-9bd8-a09b05284589"
      },
      "source": [
        "mass = data['mass']['massValue']\r\n",
        "mexp = data['mass']['massExponent']\r\n",
        "volume = data['vol']['volValue']\r\n",
        "vexp = data['vol']['volExponent']\r\n",
        "density = data['density']\r\n",
        "gravity = data['gravity']\r\n",
        "escape = data['escape']\r\n",
        "\r\n",
        "print('mass :', mass, '10^',mexp)\r\n",
        "print('volume :', volume, '10^',vexp)\r\n",
        "print('density :', density)\r\n",
        "print('gravity :' , gravity)\r\n",
        "print('escape velocity :', escape)"
      ],
      "execution_count": 50,
      "outputs": [
        {
          "output_type": "stream",
          "text": [
            "mass : 8.68127 10^ 25\n",
            "volume : 6.833 10^ 13\n",
            "density : 1.27\n",
            "gravity : 8.87\n",
            "escape velocity : 21380.0\n"
          ],
          "name": "stdout"
        }
      ]
    },
    {
      "cell_type": "markdown",
      "metadata": {
        "id": "cn0salqNYagY"
      },
      "source": [
        "Orbital Information"
      ]
    },
    {
      "cell_type": "code",
      "metadata": {
        "colab": {
          "base_uri": "https://localhost:8080/"
        },
        "id": "eEl4ak5RYeb7",
        "outputId": "ac4933a8-a801-4934-86a5-741bb815237e"
      },
      "source": [
        "print('Eccentricity :', data['eccentricity'])\r\n",
        "print('Flattening :', data['flattening'])\r\n",
        "print('Axis Tilt :', data['axialTilt'])\r\n",
        "print('Inclination :', data['inclination'])"
      ],
      "execution_count": 51,
      "outputs": [
        {
          "output_type": "stream",
          "text": [
            "Eccentricity : 0.0457\n",
            "Flattening : 0.02293\n",
            "Axis Tilt : 97.77\n",
            "Inclination : 0.772\n"
          ],
          "name": "stdout"
        }
      ]
    },
    {
      "cell_type": "markdown",
      "metadata": {
        "id": "qEHwUXY8W1ha"
      },
      "source": [
        "Aphelion & Perihelion"
      ]
    },
    {
      "cell_type": "code",
      "metadata": {
        "colab": {
          "base_uri": "https://localhost:8080/"
        },
        "id": "58GZjJpoW0nd",
        "outputId": "6237dcd1-38af-4716-bd44-ca560ad99c0f"
      },
      "source": [
        "print('perihelion :', data['perihelion'])\r\n",
        "print('aphelion :', data['aphelion'])"
      ],
      "execution_count": 52,
      "outputs": [
        {
          "output_type": "stream",
          "text": [
            "perihelion : 2734998229\n",
            "aphelion : 3006318143\n"
          ],
          "name": "stdout"
        }
      ]
    },
    {
      "cell_type": "markdown",
      "metadata": {
        "id": "tXRo9L_pX1KR"
      },
      "source": [
        "Discovery"
      ]
    },
    {
      "cell_type": "code",
      "metadata": {
        "colab": {
          "base_uri": "https://localhost:8080/"
        },
        "id": "2ohrSIRUXBlS",
        "outputId": "d102577f-204f-4907-9df3-dc11d62bae55"
      },
      "source": [
        "print('Discovered by :', data['discoveredBy'])\r\n",
        "print('Discovered on :', data['discoveryDate'])"
      ],
      "execution_count": 53,
      "outputs": [
        {
          "output_type": "stream",
          "text": [
            "Discovered by : William Herschel\n",
            "Discovered on : 13/03/1781\n"
          ],
          "name": "stdout"
        }
      ]
    }
  ]
}