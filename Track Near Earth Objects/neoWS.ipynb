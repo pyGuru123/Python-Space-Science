{
  "nbformat": 4,
  "nbformat_minor": 0,
  "metadata": {
    "kernelspec": {
      "display_name": "Python 3",
      "language": "python",
      "name": "python3"
    },
    "language_info": {
      "codemirror_mode": {
        "name": "ipython",
        "version": 3
      },
      "file_extension": ".py",
      "mimetype": "text/x-python",
      "name": "python",
      "nbconvert_exporter": "python",
      "pygments_lexer": "ipython3",
      "version": "3.8.1"
    },
    "colab": {
      "name": "neoWS.ipynb",
      "provenance": [],
      "collapsed_sections": [],
      "include_colab_link": true
    }
  },
  "cells": [
    {
      "cell_type": "markdown",
      "metadata": {
        "id": "view-in-github",
        "colab_type": "text"
      },
      "source": [
        "<a href=\"https://colab.research.google.com/github/pyGuru123/Python-Space-Science/blob/main/Track%20Near%20Earth%20Objects/neoWS.ipynb\" target=\"_parent\"><img src=\"https://colab.research.google.com/assets/colab-badge.svg\" alt=\"Open In Colab\"/></a>"
      ]
    },
    {
      "cell_type": "markdown",
      "metadata": {
        "id": "ZTmfuwFd7KW0"
      },
      "source": [
        "# Track Near Earth Objects ( Asteroids )"
      ]
    },
    {
      "cell_type": "markdown",
      "metadata": {
        "id": "1ETafBel7TpK"
      },
      "source": [
        "Fetching near earth object information using python and NASA NEO API. You can read the api dcumentaton from the link below.\n",
        "\n",
        "\n",
        "url : [NASA NeoWS docs](https://api.nasa.gov/#:~:text=NeoWs%20(Near%20Earth%20Object%20Web,browse%20the%20overall%20data%2Dset.)\n",
        "\n",
        "Tutorial for code explanation : [pyGuru Asteroids with python and NeoWS](https://youtu.be/JNL71zQHe3Q)"
      ]
    },
    {
      "cell_type": "markdown",
      "metadata": {
        "id": "49iqu-Tk-lsR"
      },
      "source": [
        "![not actual image](https://www.gannett-cdn.com/presto/2020/06/04/USAT/a19efbc5-8b9f-4f60-9256-97252d62db75-VPC_ASTEROID_FLY-BY_SAT_wide.jpg?width=660&height=371&fit=crop&format=pjpg&auto=webp)"
      ]
    },
    {
      "cell_type": "code",
      "metadata": {
        "id": "7tOJCRRS7KW3"
      },
      "source": [
        "# importing modules\n",
        "\n",
        "import requests\n",
        "from pprint import pprint"
      ],
      "execution_count": 2,
      "outputs": []
    },
    {
      "cell_type": "markdown",
      "metadata": {
        "id": "LZywhVqtiLlx"
      },
      "source": [
        "An api key isrequired to access the neo api. Get yourself a api key from here.\r\n",
        "\r\n",
        "url : [Generate api key](https://api.nasa.gov/#:~:text=NeoWs%20(Near%20Earth%20Object%20Web,browse%20the%20overall%20data%2Dset)"
      ]
    },
    {
      "cell_type": "code",
      "metadata": {
        "id": "h4LGY_Id7KXC"
      },
      "source": [
        "api_key = 'your_api_key_here'"
      ],
      "execution_count": 12,
      "outputs": []
    },
    {
      "cell_type": "markdown",
      "metadata": {
        "id": "D1OAlQ79iJz0"
      },
      "source": [
        "Here, the api gives data for the given range of dates. We will be tracking the asteroids for between 6 and 7 decembers because at this date, asteroid 163348 (2002 NN4), a potentialy hazardous asteroid made a close approach to planet Earth."
      ]
    },
    {
      "cell_type": "code",
      "metadata": {
        "id": "bOTtgMSu7KXI",
        "colab": {
          "base_uri": "https://localhost:8080/",
          "height": 35
        },
        "outputId": "d6695021-49de-42cf-c8cc-f8058cb6a1a3"
      },
      "source": [
        "# url\n",
        "\n",
        "start_date = '2020-06-06'\n",
        "end_date = '2020-06-07'\n",
        "url = f'https://api.nasa.gov/neo/rest/v1/feed?start_date={start_date}&end_date={end_date}&api_key={api_key}'\n",
        "url"
      ],
      "execution_count": 4,
      "outputs": [
        {
          "output_type": "execute_result",
          "data": {
            "application/vnd.google.colaboratory.intrinsic+json": {
              "type": "string"
            },
            "text/plain": [
              "'https://api.nasa.gov/neo/rest/v1/feed?start_date=2020-06-06&end_date=2020-06-07&api_key=19Pdj0sljBhhoS6lnlIZEK6LTnsTEbKkvutr12f0'"
            ]
          },
          "metadata": {
            "tags": []
          },
          "execution_count": 4
        }
      ]
    },
    {
      "cell_type": "code",
      "metadata": {
        "id": "giAN985I7KXR",
        "colab": {
          "base_uri": "https://localhost:8080/"
        },
        "outputId": "7ed0afa6-3ef5-4c87-b2e3-36889ae04728"
      },
      "source": [
        "# making a request and getting data\n",
        "\n",
        "r = requests.get(url)\n",
        "data = r.json()\n",
        "data"
      ],
      "execution_count": 5,
      "outputs": [
        {
          "output_type": "execute_result",
          "data": {
            "text/plain": [
              "{'element_count': 21,\n",
              " 'links': {'next': 'http://www.neowsapp.com/rest/v1/feed?start_date=2020-06-07&end_date=2020-06-08&detailed=false&api_key=19Pdj0sljBhhoS6lnlIZEK6LTnsTEbKkvutr12f0',\n",
              "  'prev': 'http://www.neowsapp.com/rest/v1/feed?start_date=2020-06-05&end_date=2020-06-06&detailed=false&api_key=19Pdj0sljBhhoS6lnlIZEK6LTnsTEbKkvutr12f0',\n",
              "  'self': 'http://www.neowsapp.com/rest/v1/feed?start_date=2020-06-06&end_date=2020-06-07&detailed=false&api_key=19Pdj0sljBhhoS6lnlIZEK6LTnsTEbKkvutr12f0'},\n",
              " 'near_earth_objects': {'2020-06-06': [{'absolute_magnitude_h': 20.1,\n",
              "    'close_approach_data': [{'close_approach_date': '2020-06-06',\n",
              "      'close_approach_date_full': '2020-Jun-06 03:20',\n",
              "      'epoch_date_close_approach': 1591413600000,\n",
              "      'miss_distance': {'astronomical': '0.0340480997',\n",
              "       'kilometers': '5093523.192667639',\n",
              "       'lunar': '13.2447107833',\n",
              "       'miles': '3164968.5503818582'},\n",
              "      'orbiting_body': 'Earth',\n",
              "      'relative_velocity': {'kilometers_per_hour': '40126.268042406',\n",
              "       'kilometers_per_second': '11.1461855673',\n",
              "       'miles_per_hour': '24932.9024955717'}}],\n",
              "    'estimated_diameter': {'feet': {'estimated_diameter_max': 1862.1944587557,\n",
              "      'estimated_diameter_min': 832.7986794202},\n",
              "     'kilometers': {'estimated_diameter_max': 0.5675968529,\n",
              "      'estimated_diameter_min': 0.2538370294},\n",
              "     'meters': {'estimated_diameter_max': 567.5968528656,\n",
              "      'estimated_diameter_min': 253.8370293645},\n",
              "     'miles': {'estimated_diameter_max': 0.3526882241,\n",
              "      'estimated_diameter_min': 0.1577269688}},\n",
              "    'id': '2163348',\n",
              "    'is_potentially_hazardous_asteroid': True,\n",
              "    'is_sentry_object': False,\n",
              "    'links': {'self': 'http://www.neowsapp.com/rest/v1/neo/2163348?api_key=19Pdj0sljBhhoS6lnlIZEK6LTnsTEbKkvutr12f0'},\n",
              "    'name': '163348 (2002 NN4)',\n",
              "    'nasa_jpl_url': 'http://ssd.jpl.nasa.gov/sbdb.cgi?sstr=2163348',\n",
              "    'neo_reference_id': '2163348'},\n",
              "   {'absolute_magnitude_h': 18.6,\n",
              "    'close_approach_data': [{'close_approach_date': '2020-06-06',\n",
              "      'close_approach_date_full': '2020-Jun-06 13:19',\n",
              "      'epoch_date_close_approach': 1591449540000,\n",
              "      'miss_distance': {'astronomical': '0.4499536914',\n",
              "       'kilometers': '67312113.832077318',\n",
              "       'lunar': '175.0319859546',\n",
              "       'miles': '41825808.0467622684'},\n",
              "      'orbiting_body': 'Earth',\n",
              "      'relative_velocity': {'kilometers_per_hour': '163285.7463906948',\n",
              "       'kilometers_per_second': '45.3571517752',\n",
              "       'miles_per_hour': '101459.4128059292'}}],\n",
              "    'estimated_diameter': {'feet': {'estimated_diameter_max': 3715.566426699,\n",
              "      'estimated_diameter_min': 1661.651821003},\n",
              "     'kilometers': {'estimated_diameter_max': 1.1325046106,\n",
              "      'estimated_diameter_min': 0.5064714588},\n",
              "     'meters': {'estimated_diameter_max': 1132.5046106177,\n",
              "      'estimated_diameter_min': 506.4714588346},\n",
              "     'miles': {'estimated_diameter_max': 0.7037055224,\n",
              "      'estimated_diameter_min': 0.3147066768}},\n",
              "    'id': '2471926',\n",
              "    'is_potentially_hazardous_asteroid': True,\n",
              "    'is_sentry_object': False,\n",
              "    'links': {'self': 'http://www.neowsapp.com/rest/v1/neo/2471926?api_key=19Pdj0sljBhhoS6lnlIZEK6LTnsTEbKkvutr12f0'},\n",
              "    'name': '471926 Jormungandr (2013 KN6)',\n",
              "    'nasa_jpl_url': 'http://ssd.jpl.nasa.gov/sbdb.cgi?sstr=2471926',\n",
              "    'neo_reference_id': '2471926'},\n",
              "   {'absolute_magnitude_h': 25.7,\n",
              "    'close_approach_data': [{'close_approach_date': '2020-06-06',\n",
              "      'close_approach_date_full': '2020-Jun-06 02:07',\n",
              "      'epoch_date_close_approach': 1591409220000,\n",
              "      'miss_distance': {'astronomical': '0.2109616107',\n",
              "       'kilometers': '31559407.612489209',\n",
              "       'lunar': '82.0640665623',\n",
              "       'miles': '19610106.5576767242'},\n",
              "      'orbiting_body': 'Earth',\n",
              "      'relative_velocity': {'kilometers_per_hour': '22354.7409768717',\n",
              "       'kilometers_per_second': '6.2096502714',\n",
              "       'miles_per_hour': '13890.3666919901'}}],\n",
              "    'estimated_diameter': {'feet': {'estimated_diameter_max': 141.2618956756,\n",
              "      'estimated_diameter_min': 63.1742402722},\n",
              "     'kilometers': {'estimated_diameter_max': 0.0430566244,\n",
              "      'estimated_diameter_min': 0.0192555078},\n",
              "     'meters': {'estimated_diameter_max': 43.0566244241,\n",
              "      'estimated_diameter_min': 19.2555078188},\n",
              "     'miles': {'estimated_diameter_max': 0.0267541378,\n",
              "      'estimated_diameter_min': 0.0119648141}},\n",
              "    'id': '3398654',\n",
              "    'is_potentially_hazardous_asteroid': False,\n",
              "    'is_sentry_object': False,\n",
              "    'links': {'self': 'http://www.neowsapp.com/rest/v1/neo/3398654?api_key=19Pdj0sljBhhoS6lnlIZEK6LTnsTEbKkvutr12f0'},\n",
              "    'name': '(2007 YS56)',\n",
              "    'nasa_jpl_url': 'http://ssd.jpl.nasa.gov/sbdb.cgi?sstr=3398654',\n",
              "    'neo_reference_id': '3398654'},\n",
              "   {'absolute_magnitude_h': 24.9,\n",
              "    'close_approach_data': [{'close_approach_date': '2020-06-06',\n",
              "      'close_approach_date_full': '2020-Jun-06 23:02',\n",
              "      'epoch_date_close_approach': 1591484520000,\n",
              "      'miss_distance': {'astronomical': '0.0693329429',\n",
              "       'kilometers': '10372060.578671623',\n",
              "       'lunar': '26.9705147881',\n",
              "       'miles': '6444899.5896214774'},\n",
              "      'orbiting_body': 'Earth',\n",
              "      'relative_velocity': {'kilometers_per_hour': '30345.5636121491',\n",
              "       'kilometers_per_second': '8.4293232256',\n",
              "       'miles_per_hour': '18855.5531233378'}}],\n",
              "    'estimated_diameter': {'feet': {'estimated_diameter_max': 204.1855621004,\n",
              "      'estimated_diameter_min': 91.3145593761},\n",
              "     'kilometers': {'estimated_diameter_max': 0.0622357573,\n",
              "      'estimated_diameter_min': 0.0278326768},\n",
              "     'meters': {'estimated_diameter_max': 62.2357573367,\n",
              "      'estimated_diameter_min': 27.8326768072},\n",
              "     'miles': {'estimated_diameter_max': 0.0386714948,\n",
              "      'estimated_diameter_min': 0.0172944182}},\n",
              "    'id': '3672459',\n",
              "    'is_potentially_hazardous_asteroid': False,\n",
              "    'is_sentry_object': False,\n",
              "    'links': {'self': 'http://www.neowsapp.com/rest/v1/neo/3672459?api_key=19Pdj0sljBhhoS6lnlIZEK6LTnsTEbKkvutr12f0'},\n",
              "    'name': '(2014 KG39)',\n",
              "    'nasa_jpl_url': 'http://ssd.jpl.nasa.gov/sbdb.cgi?sstr=3672459',\n",
              "    'neo_reference_id': '3672459'},\n",
              "   {'absolute_magnitude_h': 24.93,\n",
              "    'close_approach_data': [{'close_approach_date': '2020-06-06',\n",
              "      'close_approach_date_full': '2020-Jun-06 11:00',\n",
              "      'epoch_date_close_approach': 1591441200000,\n",
              "      'miss_distance': {'astronomical': '0.0397629079',\n",
              "       'kilometers': '5948446.326846173',\n",
              "       'lunar': '15.4677711731',\n",
              "       'miles': '3696193.1527482674'},\n",
              "      'orbiting_body': 'Earth',\n",
              "      'relative_velocity': {'kilometers_per_hour': '26303.517762487',\n",
              "       'kilometers_per_second': '7.3065327118',\n",
              "       'miles_per_hour': '16343.9830230298'}}],\n",
              "    'estimated_diameter': {'feet': {'estimated_diameter_max': 201.3840311617,\n",
              "      'estimated_diameter_min': 90.0616766521},\n",
              "     'kilometers': {'estimated_diameter_max': 0.0613818507,\n",
              "      'estimated_diameter_min': 0.0274507982},\n",
              "     'meters': {'estimated_diameter_max': 61.3818507339,\n",
              "      'estimated_diameter_min': 27.4507981651},\n",
              "     'miles': {'estimated_diameter_max': 0.038140902,\n",
              "      'estimated_diameter_min': 0.0170571299}},\n",
              "    'id': '54017119',\n",
              "    'is_potentially_hazardous_asteroid': False,\n",
              "    'is_sentry_object': False,\n",
              "    'links': {'self': 'http://www.neowsapp.com/rest/v1/neo/54017119?api_key=19Pdj0sljBhhoS6lnlIZEK6LTnsTEbKkvutr12f0'},\n",
              "    'name': '(2020 KO1)',\n",
              "    'nasa_jpl_url': 'http://ssd.jpl.nasa.gov/sbdb.cgi?sstr=54017119',\n",
              "    'neo_reference_id': '54017119'},\n",
              "   {'absolute_magnitude_h': 24.161,\n",
              "    'close_approach_data': [{'close_approach_date': '2020-06-06',\n",
              "      'close_approach_date_full': '2020-Jun-06 17:39',\n",
              "      'epoch_date_close_approach': 1591465140000,\n",
              "      'miss_distance': {'astronomical': '0.0342350718',\n",
              "       'kilometers': '5121493.820577066',\n",
              "       'lunar': '13.3174429302',\n",
              "       'miles': '3182348.6926368708'},\n",
              "      'orbiting_body': 'Earth',\n",
              "      'relative_velocity': {'kilometers_per_hour': '53724.5144570066',\n",
              "       'kilometers_per_second': '14.9234762381',\n",
              "       'miles_per_hour': '33382.3239969106'}}],\n",
              "    'estimated_diameter': {'feet': {'estimated_diameter_max': 286.9624225415,\n",
              "      'estimated_diameter_min': 128.3334967582},\n",
              "     'kilometers': {'estimated_diameter_max': 0.0874661436,\n",
              "      'estimated_diameter_min': 0.0391160486},\n",
              "     'meters': {'estimated_diameter_max': 87.4661435917,\n",
              "      'estimated_diameter_min': 39.1160485602},\n",
              "     'miles': {'estimated_diameter_max': 0.0543489251,\n",
              "      'estimated_diameter_min': 0.0243055782}},\n",
              "    'id': '54017121',\n",
              "    'is_potentially_hazardous_asteroid': False,\n",
              "    'is_sentry_object': False,\n",
              "    'links': {'self': 'http://www.neowsapp.com/rest/v1/neo/54017121?api_key=19Pdj0sljBhhoS6lnlIZEK6LTnsTEbKkvutr12f0'},\n",
              "    'name': '(2020 KQ1)',\n",
              "    'nasa_jpl_url': 'http://ssd.jpl.nasa.gov/sbdb.cgi?sstr=54017121',\n",
              "    'neo_reference_id': '54017121'},\n",
              "   {'absolute_magnitude_h': 21.29,\n",
              "    'close_approach_data': [{'close_approach_date': '2020-06-06',\n",
              "      'close_approach_date_full': '2020-Jun-06 07:01',\n",
              "      'epoch_date_close_approach': 1591426860000,\n",
              "      'miss_distance': {'astronomical': '0.3669563869',\n",
              "       'kilometers': '54895893.863135903',\n",
              "       'lunar': '142.7460345041',\n",
              "       'miles': '34110726.7111373414'},\n",
              "      'orbiting_body': 'Earth',\n",
              "      'relative_velocity': {'kilometers_per_hour': '34248.5400223085',\n",
              "       'kilometers_per_second': '9.5134833395',\n",
              "       'miles_per_hour': '21280.710882195'}}],\n",
              "    'estimated_diameter': {'feet': {'estimated_diameter_max': 1076.5272561075,\n",
              "      'estimated_diameter_min': 481.4376248575},\n",
              "     'kilometers': {'estimated_diameter_max': 0.3281254972,\n",
              "      'estimated_diameter_min': 0.1467421834},\n",
              "     'meters': {'estimated_diameter_max': 328.1254971615,\n",
              "      'estimated_diameter_min': 146.7421833608},\n",
              "     'miles': {'estimated_diameter_max': 0.2038876683,\n",
              "      'estimated_diameter_min': 0.0911813372}},\n",
              "    'id': '54017129',\n",
              "    'is_potentially_hazardous_asteroid': False,\n",
              "    'is_sentry_object': False,\n",
              "    'links': {'self': 'http://www.neowsapp.com/rest/v1/neo/54017129?api_key=19Pdj0sljBhhoS6lnlIZEK6LTnsTEbKkvutr12f0'},\n",
              "    'name': '(2020 KS1)',\n",
              "    'nasa_jpl_url': 'http://ssd.jpl.nasa.gov/sbdb.cgi?sstr=54017129',\n",
              "    'neo_reference_id': '54017129'},\n",
              "   {'absolute_magnitude_h': 25.221,\n",
              "    'close_approach_data': [{'close_approach_date': '2020-06-06',\n",
              "      'close_approach_date_full': '2020-Jun-06 19:16',\n",
              "      'epoch_date_close_approach': 1591470960000,\n",
              "      'miss_distance': {'astronomical': '0.009575301',\n",
              "       'kilometers': '1432444.63420887',\n",
              "       'lunar': '3.724792089',\n",
              "       'miles': '890079.822147606'},\n",
              "      'orbiting_body': 'Earth',\n",
              "      'relative_velocity': {'kilometers_per_hour': '55616.0510409534',\n",
              "       'kilometers_per_second': '15.4489030669',\n",
              "       'miles_per_hour': '34557.6512704191'}}],\n",
              "    'estimated_diameter': {'feet': {'estimated_diameter_max': 176.126631866,\n",
              "      'estimated_diameter_min': 78.7662243001},\n",
              "     'kilometers': {'estimated_diameter_max': 0.0536833957,\n",
              "      'estimated_diameter_min': 0.0240079444},\n",
              "     'meters': {'estimated_diameter_max': 53.6833956749,\n",
              "      'estimated_diameter_min': 24.0079443984},\n",
              "     'miles': {'estimated_diameter_max': 0.0333573053,\n",
              "      'estimated_diameter_min': 0.0149178404}},\n",
              "    'id': '54017329',\n",
              "    'is_potentially_hazardous_asteroid': False,\n",
              "    'is_sentry_object': False,\n",
              "    'links': {'self': 'http://www.neowsapp.com/rest/v1/neo/54017329?api_key=19Pdj0sljBhhoS6lnlIZEK6LTnsTEbKkvutr12f0'},\n",
              "    'name': '(2020 LA)',\n",
              "    'nasa_jpl_url': 'http://ssd.jpl.nasa.gov/sbdb.cgi?sstr=54017329',\n",
              "    'neo_reference_id': '54017329'},\n",
              "   {'absolute_magnitude_h': 25.031,\n",
              "    'close_approach_data': [{'close_approach_date': '2020-06-06',\n",
              "      'close_approach_date_full': '2020-Jun-06 22:57',\n",
              "      'epoch_date_close_approach': 1591484220000,\n",
              "      'miss_distance': {'astronomical': '0.0438131533',\n",
              "       'kilometers': '6554354.411663471',\n",
              "       'lunar': '17.0433166337',\n",
              "       'miles': '4072686.9784030598'},\n",
              "      'orbiting_body': 'Earth',\n",
              "      'relative_velocity': {'kilometers_per_hour': '44292.8049288242',\n",
              "       'kilometers_per_second': '12.3035569247',\n",
              "       'miles_per_hour': '27521.8264848019'}}],\n",
              "    'estimated_diameter': {'feet': {'estimated_diameter_max': 192.2317103414,\n",
              "      'estimated_diameter_min': 85.9686343509},\n",
              "     'kilometers': {'estimated_diameter_max': 0.0585922234,\n",
              "      'estimated_diameter_min': 0.0262032389},\n",
              "     'meters': {'estimated_diameter_max': 58.5922234371,\n",
              "      'estimated_diameter_min': 26.2032389117},\n",
              "     'miles': {'estimated_diameter_max': 0.0364075085,\n",
              "      'estimated_diameter_min': 0.0162819328}},\n",
              "    'id': '54017404',\n",
              "    'is_potentially_hazardous_asteroid': False,\n",
              "    'is_sentry_object': False,\n",
              "    'links': {'self': 'http://www.neowsapp.com/rest/v1/neo/54017404?api_key=19Pdj0sljBhhoS6lnlIZEK6LTnsTEbKkvutr12f0'},\n",
              "    'name': '(2020 LQ)',\n",
              "    'nasa_jpl_url': 'http://ssd.jpl.nasa.gov/sbdb.cgi?sstr=54017404',\n",
              "    'neo_reference_id': '54017404'},\n",
              "   {'absolute_magnitude_h': 24.781,\n",
              "    'close_approach_data': [{'close_approach_date': '2020-06-06',\n",
              "      'close_approach_date_full': '2020-Jun-06 04:22',\n",
              "      'epoch_date_close_approach': 1591417320000,\n",
              "      'miss_distance': {'astronomical': '0.1477380806',\n",
              "       'kilometers': '22101302.175648322',\n",
              "       'lunar': '57.4701133534',\n",
              "       'miles': '13733112.3590659636'},\n",
              "      'orbiting_body': 'Earth',\n",
              "      'relative_velocity': {'kilometers_per_hour': '19650.3494313029',\n",
              "       'kilometers_per_second': '5.4584303976',\n",
              "       'miles_per_hour': '12209.962956356'}}],\n",
              "    'estimated_diameter': {'feet': {'estimated_diameter_max': 215.6875265051,\n",
              "      'estimated_diameter_min': 96.4583942329},\n",
              "     'kilometers': {'estimated_diameter_max': 0.065741556,\n",
              "      'estimated_diameter_min': 0.0294005176},\n",
              "     'meters': {'estimated_diameter_max': 65.741555975,\n",
              "      'estimated_diameter_min': 29.4005176214},\n",
              "     'miles': {'estimated_diameter_max': 0.0408498964,\n",
              "      'estimated_diameter_min': 0.018268629}},\n",
              "    'id': '54051325',\n",
              "    'is_potentially_hazardous_asteroid': False,\n",
              "    'is_sentry_object': False,\n",
              "    'links': {'self': 'http://www.neowsapp.com/rest/v1/neo/54051325?api_key=19Pdj0sljBhhoS6lnlIZEK6LTnsTEbKkvutr12f0'},\n",
              "    'name': '(2020 QD4)',\n",
              "    'nasa_jpl_url': 'http://ssd.jpl.nasa.gov/sbdb.cgi?sstr=54051325',\n",
              "    'neo_reference_id': '54051325'},\n",
              "   {'absolute_magnitude_h': 27.27,\n",
              "    'close_approach_data': [{'close_approach_date': '2020-06-06',\n",
              "      'close_approach_date_full': '2020-Jun-06 16:24',\n",
              "      'epoch_date_close_approach': 1591460640000,\n",
              "      'miss_distance': {'astronomical': '0.1333612697',\n",
              "       'kilometers': '19950561.887615539',\n",
              "       'lunar': '51.8775339133',\n",
              "       'miles': '12396704.3141468782'},\n",
              "      'orbiting_body': 'Earth',\n",
              "      'relative_velocity': {'kilometers_per_hour': '6083.3183638428',\n",
              "       'kilometers_per_second': '1.6898106566',\n",
              "       'miles_per_hour': '3779.9374578'}}],\n",
              "    'estimated_diameter': {'feet': {'estimated_diameter_max': 68.5527734825,\n",
              "      'estimated_diameter_min': 30.6577323106},\n",
              "     'kilometers': {'estimated_diameter_max': 0.0208948847,\n",
              "      'estimated_diameter_min': 0.0093444765},\n",
              "     'meters': {'estimated_diameter_max': 20.8948846888,\n",
              "      'estimated_diameter_min': 9.3444765092},\n",
              "     'miles': {'estimated_diameter_max': 0.0129834754,\n",
              "      'estimated_diameter_min': 0.0058063867}},\n",
              "    'id': '54087437',\n",
              "    'is_potentially_hazardous_asteroid': False,\n",
              "    'is_sentry_object': False,\n",
              "    'links': {'self': 'http://www.neowsapp.com/rest/v1/neo/54087437?api_key=19Pdj0sljBhhoS6lnlIZEK6LTnsTEbKkvutr12f0'},\n",
              "    'name': '(2020 VV)',\n",
              "    'nasa_jpl_url': 'http://ssd.jpl.nasa.gov/sbdb.cgi?sstr=54087437',\n",
              "    'neo_reference_id': '54087437'},\n",
              "   {'absolute_magnitude_h': 25.533,\n",
              "    'close_approach_data': [{'close_approach_date': '2020-06-06',\n",
              "      'close_approach_date_full': '2020-Jun-06 19:05',\n",
              "      'epoch_date_close_approach': 1591470300000,\n",
              "      'miss_distance': {'astronomical': '0.228166787',\n",
              "       'kilometers': '34133265.33994369',\n",
              "       'lunar': '88.756880143',\n",
              "       'miles': '21209427.588015322'},\n",
              "      'orbiting_body': 'Earth',\n",
              "      'relative_velocity': {'kilometers_per_hour': '34084.1941717227',\n",
              "       'kilometers_per_second': '9.4678317144',\n",
              "       'miles_per_hour': '21178.5927618685'}}],\n",
              "    'estimated_diameter': {'feet': {'estimated_diameter_max': 152.5545025181,\n",
              "      'estimated_diameter_min': 68.2244475808},\n",
              "     'kilometers': {'estimated_diameter_max': 0.0464986109,\n",
              "      'estimated_diameter_min': 0.020794811},\n",
              "     'meters': {'estimated_diameter_max': 46.4986108795,\n",
              "      'estimated_diameter_min': 20.7948109572},\n",
              "     'miles': {'estimated_diameter_max': 0.0288928883,\n",
              "      'estimated_diameter_min': 0.0129212925}},\n",
              "    'id': '54099646',\n",
              "    'is_potentially_hazardous_asteroid': False,\n",
              "    'is_sentry_object': False,\n",
              "    'links': {'self': 'http://www.neowsapp.com/rest/v1/neo/54099646?api_key=19Pdj0sljBhhoS6lnlIZEK6LTnsTEbKkvutr12f0'},\n",
              "    'name': '(2020 XE4)',\n",
              "    'nasa_jpl_url': 'http://ssd.jpl.nasa.gov/sbdb.cgi?sstr=54099646',\n",
              "    'neo_reference_id': '54099646'},\n",
              "   {'absolute_magnitude_h': 24.132,\n",
              "    'close_approach_data': [{'close_approach_date': '2020-06-06',\n",
              "      'close_approach_date_full': '2020-Jun-06 04:23',\n",
              "      'epoch_date_close_approach': 1591417380000,\n",
              "      'miss_distance': {'astronomical': '0.4594685529',\n",
              "       'kilometers': '68735516.845822323',\n",
              "       'lunar': '178.7332670781',\n",
              "       'miles': '42710269.6664731374'},\n",
              "      'orbiting_body': 'Earth',\n",
              "      'relative_velocity': {'kilometers_per_hour': '34590.6027444977',\n",
              "       'kilometers_per_second': '9.6085007624',\n",
              "       'miles_per_hour': '21493.2553553241'}}],\n",
              "    'estimated_diameter': {'feet': {'estimated_diameter_max': 290.820508857,\n",
              "      'estimated_diameter_min': 130.0588854111},\n",
              "     'kilometers': {'estimated_diameter_max': 0.0886420883,\n",
              "      'estimated_diameter_min': 0.039641947},\n",
              "     'meters': {'estimated_diameter_max': 88.6420882631,\n",
              "      'estimated_diameter_min': 39.6419470047},\n",
              "     'miles': {'estimated_diameter_max': 0.055079623,\n",
              "      'estimated_diameter_min': 0.0246323563}},\n",
              "    'id': '54102021',\n",
              "    'is_potentially_hazardous_asteroid': False,\n",
              "    'is_sentry_object': False,\n",
              "    'links': {'self': 'http://www.neowsapp.com/rest/v1/neo/54102021?api_key=19Pdj0sljBhhoS6lnlIZEK6LTnsTEbKkvutr12f0'},\n",
              "    'name': '(2020 YP3)',\n",
              "    'nasa_jpl_url': 'http://ssd.jpl.nasa.gov/sbdb.cgi?sstr=54102021',\n",
              "    'neo_reference_id': '54102021'}],\n",
              "  '2020-06-07': [{'absolute_magnitude_h': 25.2,\n",
              "    'close_approach_data': [{'close_approach_date': '2020-06-07',\n",
              "      'close_approach_date_full': '2020-Jun-07 14:11',\n",
              "      'epoch_date_close_approach': 1591539060000,\n",
              "      'miss_distance': {'astronomical': '0.3378361943',\n",
              "       'kilometers': '50539575.076186141',\n",
              "       'lunar': '131.4182795827',\n",
              "       'miles': '31403835.7371291058'},\n",
              "      'orbiting_body': 'Earth',\n",
              "      'relative_velocity': {'kilometers_per_hour': '30130.7816324677',\n",
              "       'kilometers_per_second': '8.3696615646',\n",
              "       'miles_per_hour': '18722.0959537964'}}],\n",
              "    'estimated_diameter': {'feet': {'estimated_diameter_max': 177.8381901842,\n",
              "      'estimated_diameter_min': 79.5316564495},\n",
              "     'kilometers': {'estimated_diameter_max': 0.0542050786,\n",
              "      'estimated_diameter_min': 0.0242412481},\n",
              "     'meters': {'estimated_diameter_max': 54.2050786336,\n",
              "      'estimated_diameter_min': 24.2412481101},\n",
              "     'miles': {'estimated_diameter_max': 0.0336814639,\n",
              "      'estimated_diameter_min': 0.0150628086}},\n",
              "    'id': '3559843',\n",
              "    'is_potentially_hazardous_asteroid': False,\n",
              "    'is_sentry_object': False,\n",
              "    'links': {'self': 'http://www.neowsapp.com/rest/v1/neo/3559843?api_key=19Pdj0sljBhhoS6lnlIZEK6LTnsTEbKkvutr12f0'},\n",
              "    'name': '(2011 EP51)',\n",
              "    'nasa_jpl_url': 'http://ssd.jpl.nasa.gov/sbdb.cgi?sstr=3559843',\n",
              "    'neo_reference_id': '3559843'},\n",
              "   {'absolute_magnitude_h': 25.3,\n",
              "    'close_approach_data': [{'close_approach_date': '2020-06-07',\n",
              "      'close_approach_date_full': '2020-Jun-07 02:15',\n",
              "      'epoch_date_close_approach': 1591496100000,\n",
              "      'miss_distance': {'astronomical': '0.4173804816',\n",
              "       'kilometers': '62439231.026934192',\n",
              "       'lunar': '162.3610073424',\n",
              "       'miles': '38797939.0757961696'},\n",
              "      'orbiting_body': 'Earth',\n",
              "      'relative_velocity': {'kilometers_per_hour': '51575.4827580866',\n",
              "       'kilometers_per_second': '14.3265229884',\n",
              "       'miles_per_hour': '32046.9992726567'}}],\n",
              "    'estimated_diameter': {'feet': {'estimated_diameter_max': 169.8341531374,\n",
              "      'estimated_diameter_min': 75.9521422633},\n",
              "     'kilometers': {'estimated_diameter_max': 0.0517654482,\n",
              "      'estimated_diameter_min': 0.0231502122},\n",
              "     'meters': {'estimated_diameter_max': 51.7654482198,\n",
              "      'estimated_diameter_min': 23.150212221},\n",
              "     'miles': {'estimated_diameter_max': 0.0321655483,\n",
              "      'estimated_diameter_min': 0.0143848705}},\n",
              "    'id': '3753692',\n",
              "    'is_potentially_hazardous_asteroid': False,\n",
              "    'is_sentry_object': False,\n",
              "    'links': {'self': 'http://www.neowsapp.com/rest/v1/neo/3753692?api_key=19Pdj0sljBhhoS6lnlIZEK6LTnsTEbKkvutr12f0'},\n",
              "    'name': '(2016 LO1)',\n",
              "    'nasa_jpl_url': 'http://ssd.jpl.nasa.gov/sbdb.cgi?sstr=3753692',\n",
              "    'neo_reference_id': '3753692'},\n",
              "   {'absolute_magnitude_h': 25.2,\n",
              "    'close_approach_data': [{'close_approach_date': '2020-06-07',\n",
              "      'close_approach_date_full': '2020-Jun-07 09:01',\n",
              "      'epoch_date_close_approach': 1591520460000,\n",
              "      'miss_distance': {'astronomical': '0.1523694611',\n",
              "       'kilometers': '22794146.833607857',\n",
              "       'lunar': '59.2717203679',\n",
              "       'miles': '14163626.0663361466'},\n",
              "      'orbiting_body': 'Earth',\n",
              "      'relative_velocity': {'kilometers_per_hour': '18636.5870845502',\n",
              "       'kilometers_per_second': '5.1768297457',\n",
              "       'miles_per_hour': '11580.0504581751'}}],\n",
              "    'estimated_diameter': {'feet': {'estimated_diameter_max': 177.8381901842,\n",
              "      'estimated_diameter_min': 79.5316564495},\n",
              "     'kilometers': {'estimated_diameter_max': 0.0542050786,\n",
              "      'estimated_diameter_min': 0.0242412481},\n",
              "     'meters': {'estimated_diameter_max': 54.2050786336,\n",
              "      'estimated_diameter_min': 24.2412481101},\n",
              "     'miles': {'estimated_diameter_max': 0.0336814639,\n",
              "      'estimated_diameter_min': 0.0150628086}},\n",
              "    'id': '3825135',\n",
              "    'is_potentially_hazardous_asteroid': False,\n",
              "    'is_sentry_object': False,\n",
              "    'links': {'self': 'http://www.neowsapp.com/rest/v1/neo/3825135?api_key=19Pdj0sljBhhoS6lnlIZEK6LTnsTEbKkvutr12f0'},\n",
              "    'name': '(2018 LV2)',\n",
              "    'nasa_jpl_url': 'http://ssd.jpl.nasa.gov/sbdb.cgi?sstr=3825135',\n",
              "    'neo_reference_id': '3825135'},\n",
              "   {'absolute_magnitude_h': 25.441,\n",
              "    'close_approach_data': [{'close_approach_date': '2020-06-07',\n",
              "      'close_approach_date_full': '2020-Jun-07 07:14',\n",
              "      'epoch_date_close_approach': 1591514040000,\n",
              "      'miss_distance': {'astronomical': '0.0454738739',\n",
              "       'kilometers': '6802794.676088593',\n",
              "       'lunar': '17.6893369471',\n",
              "       'miles': '4227060.6003168634'},\n",
              "      'orbiting_body': 'Earth',\n",
              "      'relative_velocity': {'kilometers_per_hour': '42892.5276951642',\n",
              "       'kilometers_per_second': '11.9145910264',\n",
              "       'miles_per_hour': '26651.7486670313'}}],\n",
              "    'estimated_diameter': {'feet': {'estimated_diameter_max': 159.1567381942,\n",
              "      'estimated_diameter_min': 71.1770571359},\n",
              "     'kilometers': {'estimated_diameter_max': 0.0485109722,\n",
              "      'estimated_diameter_min': 0.0216947663},\n",
              "     'meters': {'estimated_diameter_max': 48.5109722492,\n",
              "      'estimated_diameter_min': 21.6947663208},\n",
              "     'miles': {'estimated_diameter_max': 0.0301433113,\n",
              "      'estimated_diameter_min': 0.0134804986}},\n",
              "    'id': '54017187',\n",
              "    'is_potentially_hazardous_asteroid': False,\n",
              "    'is_sentry_object': False,\n",
              "    'links': {'self': 'http://www.neowsapp.com/rest/v1/neo/54017187?api_key=19Pdj0sljBhhoS6lnlIZEK6LTnsTEbKkvutr12f0'},\n",
              "    'name': '(2020 KK3)',\n",
              "    'nasa_jpl_url': 'http://ssd.jpl.nasa.gov/sbdb.cgi?sstr=54017187',\n",
              "    'neo_reference_id': '54017187'},\n",
              "   {'absolute_magnitude_h': 25.361,\n",
              "    'close_approach_data': [{'close_approach_date': '2020-06-07',\n",
              "      'close_approach_date_full': '2020-Jun-07 06:33',\n",
              "      'epoch_date_close_approach': 1591511580000,\n",
              "      'miss_distance': {'astronomical': '0.0265363867',\n",
              "       'kilometers': '3969786.927816329',\n",
              "       'lunar': '10.3226544263',\n",
              "       'miles': '2466711.2140261802'},\n",
              "      'orbiting_body': 'Earth',\n",
              "      'relative_velocity': {'kilometers_per_hour': '26431.5264722034',\n",
              "       'kilometers_per_second': '7.3420906867',\n",
              "       'miles_per_hour': '16423.522657131'}}],\n",
              "    'estimated_diameter': {'feet': {'estimated_diameter_max': 165.1296384454,\n",
              "      'estimated_diameter_min': 73.8482193328},\n",
              "     'kilometers': {'estimated_diameter_max': 0.0503315122,\n",
              "      'estimated_diameter_min': 0.0225089365},\n",
              "     'meters': {'estimated_diameter_max': 50.3315121876,\n",
              "      'estimated_diameter_min': 22.5089365323},\n",
              "     'miles': {'estimated_diameter_max': 0.0312745421,\n",
              "      'estimated_diameter_min': 0.0139864004}},\n",
              "    'id': '54017303',\n",
              "    'is_potentially_hazardous_asteroid': False,\n",
              "    'is_sentry_object': False,\n",
              "    'links': {'self': 'http://www.neowsapp.com/rest/v1/neo/54017303?api_key=19Pdj0sljBhhoS6lnlIZEK6LTnsTEbKkvutr12f0'},\n",
              "    'name': '(2020 KA7)',\n",
              "    'nasa_jpl_url': 'http://ssd.jpl.nasa.gov/sbdb.cgi?sstr=54017303',\n",
              "    'neo_reference_id': '54017303'},\n",
              "   {'absolute_magnitude_h': 24.735,\n",
              "    'close_approach_data': [{'close_approach_date': '2020-06-07',\n",
              "      'close_approach_date_full': '2020-Jun-07 15:10',\n",
              "      'epoch_date_close_approach': 1591542600000,\n",
              "      'miss_distance': {'astronomical': '0.0247124397',\n",
              "       'kilometers': '3696928.341623439',\n",
              "       'lunar': '9.6131390433',\n",
              "       'miles': '2297164.7505398982'},\n",
              "      'orbiting_body': 'Earth',\n",
              "      'relative_velocity': {'kilometers_per_hour': '54254.5811837986',\n",
              "       'kilometers_per_second': '15.0707169955',\n",
              "       'miles_per_hour': '33711.6868472331'}}],\n",
              "    'estimated_diameter': {'feet': {'estimated_diameter_max': 220.3053429549,\n",
              "      'estimated_diameter_min': 98.5235445307},\n",
              "     'kilometers': {'estimated_diameter_max': 0.0671490664,\n",
              "      'estimated_diameter_min': 0.0300299754},\n",
              "     'meters': {'estimated_diameter_max': 67.1490663839,\n",
              "      'estimated_diameter_min': 30.029975412},\n",
              "     'miles': {'estimated_diameter_max': 0.0417244825,\n",
              "      'estimated_diameter_min': 0.0186597559}},\n",
              "    'id': '54017401',\n",
              "    'is_potentially_hazardous_asteroid': False,\n",
              "    'is_sentry_object': False,\n",
              "    'links': {'self': 'http://www.neowsapp.com/rest/v1/neo/54017401?api_key=19Pdj0sljBhhoS6lnlIZEK6LTnsTEbKkvutr12f0'},\n",
              "    'name': '(2020 LM)',\n",
              "    'nasa_jpl_url': 'http://ssd.jpl.nasa.gov/sbdb.cgi?sstr=54017401',\n",
              "    'neo_reference_id': '54017401'},\n",
              "   {'absolute_magnitude_h': 26.581,\n",
              "    'close_approach_data': [{'close_approach_date': '2020-06-07',\n",
              "      'close_approach_date_full': '2020-Jun-07 12:31',\n",
              "      'epoch_date_close_approach': 1591533060000,\n",
              "      'miss_distance': {'astronomical': '0.3370521336',\n",
              "       'kilometers': '50422281.265515432',\n",
              "       'lunar': '131.1132799704',\n",
              "       'miles': '31330952.7428076816'},\n",
              "      'orbiting_body': 'Earth',\n",
              "      'relative_velocity': {'kilometers_per_hour': '36344.6650767308',\n",
              "       'kilometers_per_second': '10.0957402991',\n",
              "       'miles_per_hour': '22583.1614750387'}}],\n",
              "    'estimated_diameter': {'feet': {'estimated_diameter_max': 94.1510201362,\n",
              "      'estimated_diameter_min': 42.1056162351},\n",
              "     'kilometers': {'estimated_diameter_max': 0.02869723,\n",
              "      'estimated_diameter_min': 0.0128337914},\n",
              "     'meters': {'estimated_diameter_max': 28.6972300192,\n",
              "      'estimated_diameter_min': 12.8337914178},\n",
              "     'miles': {'estimated_diameter_max': 0.0178316265,\n",
              "      'estimated_diameter_min': 0.0079745458}},\n",
              "    'id': '54087782',\n",
              "    'is_potentially_hazardous_asteroid': False,\n",
              "    'is_sentry_object': False,\n",
              "    'links': {'self': 'http://www.neowsapp.com/rest/v1/neo/54087782?api_key=19Pdj0sljBhhoS6lnlIZEK6LTnsTEbKkvutr12f0'},\n",
              "    'name': '(2020 VF4)',\n",
              "    'nasa_jpl_url': 'http://ssd.jpl.nasa.gov/sbdb.cgi?sstr=54087782',\n",
              "    'neo_reference_id': '54087782'},\n",
              "   {'absolute_magnitude_h': 26.899,\n",
              "    'close_approach_data': [{'close_approach_date': '2020-06-07',\n",
              "      'close_approach_date_full': '2020-Jun-07 22:11',\n",
              "      'epoch_date_close_approach': 1591567860000,\n",
              "      'miss_distance': {'astronomical': '0.4272373491',\n",
              "       'kilometers': '63913797.409806417',\n",
              "       'lunar': '166.1953287999',\n",
              "       'miles': '39714192.1388938746'},\n",
              "      'orbiting_body': 'Earth',\n",
              "      'relative_velocity': {'kilometers_per_hour': '53085.6984257392',\n",
              "       'kilometers_per_second': '14.7460273405',\n",
              "       'miles_per_hour': '32985.3885579266'}}],\n",
              "    'estimated_diameter': {'feet': {'estimated_diameter_max': 81.3251794026,\n",
              "      'estimated_diameter_min': 36.3697258853},\n",
              "     'kilometers': {'estimated_diameter_max': 0.0247879139,\n",
              "      'estimated_diameter_min': 0.0110854921},\n",
              "     'meters': {'estimated_diameter_max': 24.7879138887,\n",
              "      'estimated_diameter_min': 11.0854920951},\n",
              "     'miles': {'estimated_diameter_max': 0.0154024908,\n",
              "      'estimated_diameter_min': 0.0068882033}},\n",
              "    'id': '54099950',\n",
              "    'is_potentially_hazardous_asteroid': False,\n",
              "    'is_sentry_object': False,\n",
              "    'links': {'self': 'http://www.neowsapp.com/rest/v1/neo/54099950?api_key=19Pdj0sljBhhoS6lnlIZEK6LTnsTEbKkvutr12f0'},\n",
              "    'name': '(2020 XY4)',\n",
              "    'nasa_jpl_url': 'http://ssd.jpl.nasa.gov/sbdb.cgi?sstr=54099950',\n",
              "    'neo_reference_id': '54099950'}]}}"
            ]
          },
          "metadata": {
            "tags": []
          },
          "execution_count": 5
        }
      ]
    },
    {
      "cell_type": "code",
      "metadata": {
        "id": "F2dAiDqB7KXZ",
        "colab": {
          "base_uri": "https://localhost:8080/"
        },
        "outputId": "c8fd7910-07d6-4124-8370-d2d4bbb677d5"
      },
      "source": [
        "total = data['element_count']\n",
        "neo = data['near_earth_objects']\n",
        "print('Total asteroids :',total)\n",
        "neo"
      ],
      "execution_count": 7,
      "outputs": [
        {
          "output_type": "stream",
          "text": [
            "Total asteroids : 21\n"
          ],
          "name": "stdout"
        },
        {
          "output_type": "execute_result",
          "data": {
            "text/plain": [
              "{'2020-06-06': [{'absolute_magnitude_h': 20.1,\n",
              "   'close_approach_data': [{'close_approach_date': '2020-06-06',\n",
              "     'close_approach_date_full': '2020-Jun-06 03:20',\n",
              "     'epoch_date_close_approach': 1591413600000,\n",
              "     'miss_distance': {'astronomical': '0.0340480997',\n",
              "      'kilometers': '5093523.192667639',\n",
              "      'lunar': '13.2447107833',\n",
              "      'miles': '3164968.5503818582'},\n",
              "     'orbiting_body': 'Earth',\n",
              "     'relative_velocity': {'kilometers_per_hour': '40126.268042406',\n",
              "      'kilometers_per_second': '11.1461855673',\n",
              "      'miles_per_hour': '24932.9024955717'}}],\n",
              "   'estimated_diameter': {'feet': {'estimated_diameter_max': 1862.1944587557,\n",
              "     'estimated_diameter_min': 832.7986794202},\n",
              "    'kilometers': {'estimated_diameter_max': 0.5675968529,\n",
              "     'estimated_diameter_min': 0.2538370294},\n",
              "    'meters': {'estimated_diameter_max': 567.5968528656,\n",
              "     'estimated_diameter_min': 253.8370293645},\n",
              "    'miles': {'estimated_diameter_max': 0.3526882241,\n",
              "     'estimated_diameter_min': 0.1577269688}},\n",
              "   'id': '2163348',\n",
              "   'is_potentially_hazardous_asteroid': True,\n",
              "   'is_sentry_object': False,\n",
              "   'links': {'self': 'http://www.neowsapp.com/rest/v1/neo/2163348?api_key=19Pdj0sljBhhoS6lnlIZEK6LTnsTEbKkvutr12f0'},\n",
              "   'name': '163348 (2002 NN4)',\n",
              "   'nasa_jpl_url': 'http://ssd.jpl.nasa.gov/sbdb.cgi?sstr=2163348',\n",
              "   'neo_reference_id': '2163348'},\n",
              "  {'absolute_magnitude_h': 18.6,\n",
              "   'close_approach_data': [{'close_approach_date': '2020-06-06',\n",
              "     'close_approach_date_full': '2020-Jun-06 13:19',\n",
              "     'epoch_date_close_approach': 1591449540000,\n",
              "     'miss_distance': {'astronomical': '0.4499536914',\n",
              "      'kilometers': '67312113.832077318',\n",
              "      'lunar': '175.0319859546',\n",
              "      'miles': '41825808.0467622684'},\n",
              "     'orbiting_body': 'Earth',\n",
              "     'relative_velocity': {'kilometers_per_hour': '163285.7463906948',\n",
              "      'kilometers_per_second': '45.3571517752',\n",
              "      'miles_per_hour': '101459.4128059292'}}],\n",
              "   'estimated_diameter': {'feet': {'estimated_diameter_max': 3715.566426699,\n",
              "     'estimated_diameter_min': 1661.651821003},\n",
              "    'kilometers': {'estimated_diameter_max': 1.1325046106,\n",
              "     'estimated_diameter_min': 0.5064714588},\n",
              "    'meters': {'estimated_diameter_max': 1132.5046106177,\n",
              "     'estimated_diameter_min': 506.4714588346},\n",
              "    'miles': {'estimated_diameter_max': 0.7037055224,\n",
              "     'estimated_diameter_min': 0.3147066768}},\n",
              "   'id': '2471926',\n",
              "   'is_potentially_hazardous_asteroid': True,\n",
              "   'is_sentry_object': False,\n",
              "   'links': {'self': 'http://www.neowsapp.com/rest/v1/neo/2471926?api_key=19Pdj0sljBhhoS6lnlIZEK6LTnsTEbKkvutr12f0'},\n",
              "   'name': '471926 Jormungandr (2013 KN6)',\n",
              "   'nasa_jpl_url': 'http://ssd.jpl.nasa.gov/sbdb.cgi?sstr=2471926',\n",
              "   'neo_reference_id': '2471926'},\n",
              "  {'absolute_magnitude_h': 25.7,\n",
              "   'close_approach_data': [{'close_approach_date': '2020-06-06',\n",
              "     'close_approach_date_full': '2020-Jun-06 02:07',\n",
              "     'epoch_date_close_approach': 1591409220000,\n",
              "     'miss_distance': {'astronomical': '0.2109616107',\n",
              "      'kilometers': '31559407.612489209',\n",
              "      'lunar': '82.0640665623',\n",
              "      'miles': '19610106.5576767242'},\n",
              "     'orbiting_body': 'Earth',\n",
              "     'relative_velocity': {'kilometers_per_hour': '22354.7409768717',\n",
              "      'kilometers_per_second': '6.2096502714',\n",
              "      'miles_per_hour': '13890.3666919901'}}],\n",
              "   'estimated_diameter': {'feet': {'estimated_diameter_max': 141.2618956756,\n",
              "     'estimated_diameter_min': 63.1742402722},\n",
              "    'kilometers': {'estimated_diameter_max': 0.0430566244,\n",
              "     'estimated_diameter_min': 0.0192555078},\n",
              "    'meters': {'estimated_diameter_max': 43.0566244241,\n",
              "     'estimated_diameter_min': 19.2555078188},\n",
              "    'miles': {'estimated_diameter_max': 0.0267541378,\n",
              "     'estimated_diameter_min': 0.0119648141}},\n",
              "   'id': '3398654',\n",
              "   'is_potentially_hazardous_asteroid': False,\n",
              "   'is_sentry_object': False,\n",
              "   'links': {'self': 'http://www.neowsapp.com/rest/v1/neo/3398654?api_key=19Pdj0sljBhhoS6lnlIZEK6LTnsTEbKkvutr12f0'},\n",
              "   'name': '(2007 YS56)',\n",
              "   'nasa_jpl_url': 'http://ssd.jpl.nasa.gov/sbdb.cgi?sstr=3398654',\n",
              "   'neo_reference_id': '3398654'},\n",
              "  {'absolute_magnitude_h': 24.9,\n",
              "   'close_approach_data': [{'close_approach_date': '2020-06-06',\n",
              "     'close_approach_date_full': '2020-Jun-06 23:02',\n",
              "     'epoch_date_close_approach': 1591484520000,\n",
              "     'miss_distance': {'astronomical': '0.0693329429',\n",
              "      'kilometers': '10372060.578671623',\n",
              "      'lunar': '26.9705147881',\n",
              "      'miles': '6444899.5896214774'},\n",
              "     'orbiting_body': 'Earth',\n",
              "     'relative_velocity': {'kilometers_per_hour': '30345.5636121491',\n",
              "      'kilometers_per_second': '8.4293232256',\n",
              "      'miles_per_hour': '18855.5531233378'}}],\n",
              "   'estimated_diameter': {'feet': {'estimated_diameter_max': 204.1855621004,\n",
              "     'estimated_diameter_min': 91.3145593761},\n",
              "    'kilometers': {'estimated_diameter_max': 0.0622357573,\n",
              "     'estimated_diameter_min': 0.0278326768},\n",
              "    'meters': {'estimated_diameter_max': 62.2357573367,\n",
              "     'estimated_diameter_min': 27.8326768072},\n",
              "    'miles': {'estimated_diameter_max': 0.0386714948,\n",
              "     'estimated_diameter_min': 0.0172944182}},\n",
              "   'id': '3672459',\n",
              "   'is_potentially_hazardous_asteroid': False,\n",
              "   'is_sentry_object': False,\n",
              "   'links': {'self': 'http://www.neowsapp.com/rest/v1/neo/3672459?api_key=19Pdj0sljBhhoS6lnlIZEK6LTnsTEbKkvutr12f0'},\n",
              "   'name': '(2014 KG39)',\n",
              "   'nasa_jpl_url': 'http://ssd.jpl.nasa.gov/sbdb.cgi?sstr=3672459',\n",
              "   'neo_reference_id': '3672459'},\n",
              "  {'absolute_magnitude_h': 24.93,\n",
              "   'close_approach_data': [{'close_approach_date': '2020-06-06',\n",
              "     'close_approach_date_full': '2020-Jun-06 11:00',\n",
              "     'epoch_date_close_approach': 1591441200000,\n",
              "     'miss_distance': {'astronomical': '0.0397629079',\n",
              "      'kilometers': '5948446.326846173',\n",
              "      'lunar': '15.4677711731',\n",
              "      'miles': '3696193.1527482674'},\n",
              "     'orbiting_body': 'Earth',\n",
              "     'relative_velocity': {'kilometers_per_hour': '26303.517762487',\n",
              "      'kilometers_per_second': '7.3065327118',\n",
              "      'miles_per_hour': '16343.9830230298'}}],\n",
              "   'estimated_diameter': {'feet': {'estimated_diameter_max': 201.3840311617,\n",
              "     'estimated_diameter_min': 90.0616766521},\n",
              "    'kilometers': {'estimated_diameter_max': 0.0613818507,\n",
              "     'estimated_diameter_min': 0.0274507982},\n",
              "    'meters': {'estimated_diameter_max': 61.3818507339,\n",
              "     'estimated_diameter_min': 27.4507981651},\n",
              "    'miles': {'estimated_diameter_max': 0.038140902,\n",
              "     'estimated_diameter_min': 0.0170571299}},\n",
              "   'id': '54017119',\n",
              "   'is_potentially_hazardous_asteroid': False,\n",
              "   'is_sentry_object': False,\n",
              "   'links': {'self': 'http://www.neowsapp.com/rest/v1/neo/54017119?api_key=19Pdj0sljBhhoS6lnlIZEK6LTnsTEbKkvutr12f0'},\n",
              "   'name': '(2020 KO1)',\n",
              "   'nasa_jpl_url': 'http://ssd.jpl.nasa.gov/sbdb.cgi?sstr=54017119',\n",
              "   'neo_reference_id': '54017119'},\n",
              "  {'absolute_magnitude_h': 24.161,\n",
              "   'close_approach_data': [{'close_approach_date': '2020-06-06',\n",
              "     'close_approach_date_full': '2020-Jun-06 17:39',\n",
              "     'epoch_date_close_approach': 1591465140000,\n",
              "     'miss_distance': {'astronomical': '0.0342350718',\n",
              "      'kilometers': '5121493.820577066',\n",
              "      'lunar': '13.3174429302',\n",
              "      'miles': '3182348.6926368708'},\n",
              "     'orbiting_body': 'Earth',\n",
              "     'relative_velocity': {'kilometers_per_hour': '53724.5144570066',\n",
              "      'kilometers_per_second': '14.9234762381',\n",
              "      'miles_per_hour': '33382.3239969106'}}],\n",
              "   'estimated_diameter': {'feet': {'estimated_diameter_max': 286.9624225415,\n",
              "     'estimated_diameter_min': 128.3334967582},\n",
              "    'kilometers': {'estimated_diameter_max': 0.0874661436,\n",
              "     'estimated_diameter_min': 0.0391160486},\n",
              "    'meters': {'estimated_diameter_max': 87.4661435917,\n",
              "     'estimated_diameter_min': 39.1160485602},\n",
              "    'miles': {'estimated_diameter_max': 0.0543489251,\n",
              "     'estimated_diameter_min': 0.0243055782}},\n",
              "   'id': '54017121',\n",
              "   'is_potentially_hazardous_asteroid': False,\n",
              "   'is_sentry_object': False,\n",
              "   'links': {'self': 'http://www.neowsapp.com/rest/v1/neo/54017121?api_key=19Pdj0sljBhhoS6lnlIZEK6LTnsTEbKkvutr12f0'},\n",
              "   'name': '(2020 KQ1)',\n",
              "   'nasa_jpl_url': 'http://ssd.jpl.nasa.gov/sbdb.cgi?sstr=54017121',\n",
              "   'neo_reference_id': '54017121'},\n",
              "  {'absolute_magnitude_h': 21.29,\n",
              "   'close_approach_data': [{'close_approach_date': '2020-06-06',\n",
              "     'close_approach_date_full': '2020-Jun-06 07:01',\n",
              "     'epoch_date_close_approach': 1591426860000,\n",
              "     'miss_distance': {'astronomical': '0.3669563869',\n",
              "      'kilometers': '54895893.863135903',\n",
              "      'lunar': '142.7460345041',\n",
              "      'miles': '34110726.7111373414'},\n",
              "     'orbiting_body': 'Earth',\n",
              "     'relative_velocity': {'kilometers_per_hour': '34248.5400223085',\n",
              "      'kilometers_per_second': '9.5134833395',\n",
              "      'miles_per_hour': '21280.710882195'}}],\n",
              "   'estimated_diameter': {'feet': {'estimated_diameter_max': 1076.5272561075,\n",
              "     'estimated_diameter_min': 481.4376248575},\n",
              "    'kilometers': {'estimated_diameter_max': 0.3281254972,\n",
              "     'estimated_diameter_min': 0.1467421834},\n",
              "    'meters': {'estimated_diameter_max': 328.1254971615,\n",
              "     'estimated_diameter_min': 146.7421833608},\n",
              "    'miles': {'estimated_diameter_max': 0.2038876683,\n",
              "     'estimated_diameter_min': 0.0911813372}},\n",
              "   'id': '54017129',\n",
              "   'is_potentially_hazardous_asteroid': False,\n",
              "   'is_sentry_object': False,\n",
              "   'links': {'self': 'http://www.neowsapp.com/rest/v1/neo/54017129?api_key=19Pdj0sljBhhoS6lnlIZEK6LTnsTEbKkvutr12f0'},\n",
              "   'name': '(2020 KS1)',\n",
              "   'nasa_jpl_url': 'http://ssd.jpl.nasa.gov/sbdb.cgi?sstr=54017129',\n",
              "   'neo_reference_id': '54017129'},\n",
              "  {'absolute_magnitude_h': 25.221,\n",
              "   'close_approach_data': [{'close_approach_date': '2020-06-06',\n",
              "     'close_approach_date_full': '2020-Jun-06 19:16',\n",
              "     'epoch_date_close_approach': 1591470960000,\n",
              "     'miss_distance': {'astronomical': '0.009575301',\n",
              "      'kilometers': '1432444.63420887',\n",
              "      'lunar': '3.724792089',\n",
              "      'miles': '890079.822147606'},\n",
              "     'orbiting_body': 'Earth',\n",
              "     'relative_velocity': {'kilometers_per_hour': '55616.0510409534',\n",
              "      'kilometers_per_second': '15.4489030669',\n",
              "      'miles_per_hour': '34557.6512704191'}}],\n",
              "   'estimated_diameter': {'feet': {'estimated_diameter_max': 176.126631866,\n",
              "     'estimated_diameter_min': 78.7662243001},\n",
              "    'kilometers': {'estimated_diameter_max': 0.0536833957,\n",
              "     'estimated_diameter_min': 0.0240079444},\n",
              "    'meters': {'estimated_diameter_max': 53.6833956749,\n",
              "     'estimated_diameter_min': 24.0079443984},\n",
              "    'miles': {'estimated_diameter_max': 0.0333573053,\n",
              "     'estimated_diameter_min': 0.0149178404}},\n",
              "   'id': '54017329',\n",
              "   'is_potentially_hazardous_asteroid': False,\n",
              "   'is_sentry_object': False,\n",
              "   'links': {'self': 'http://www.neowsapp.com/rest/v1/neo/54017329?api_key=19Pdj0sljBhhoS6lnlIZEK6LTnsTEbKkvutr12f0'},\n",
              "   'name': '(2020 LA)',\n",
              "   'nasa_jpl_url': 'http://ssd.jpl.nasa.gov/sbdb.cgi?sstr=54017329',\n",
              "   'neo_reference_id': '54017329'},\n",
              "  {'absolute_magnitude_h': 25.031,\n",
              "   'close_approach_data': [{'close_approach_date': '2020-06-06',\n",
              "     'close_approach_date_full': '2020-Jun-06 22:57',\n",
              "     'epoch_date_close_approach': 1591484220000,\n",
              "     'miss_distance': {'astronomical': '0.0438131533',\n",
              "      'kilometers': '6554354.411663471',\n",
              "      'lunar': '17.0433166337',\n",
              "      'miles': '4072686.9784030598'},\n",
              "     'orbiting_body': 'Earth',\n",
              "     'relative_velocity': {'kilometers_per_hour': '44292.8049288242',\n",
              "      'kilometers_per_second': '12.3035569247',\n",
              "      'miles_per_hour': '27521.8264848019'}}],\n",
              "   'estimated_diameter': {'feet': {'estimated_diameter_max': 192.2317103414,\n",
              "     'estimated_diameter_min': 85.9686343509},\n",
              "    'kilometers': {'estimated_diameter_max': 0.0585922234,\n",
              "     'estimated_diameter_min': 0.0262032389},\n",
              "    'meters': {'estimated_diameter_max': 58.5922234371,\n",
              "     'estimated_diameter_min': 26.2032389117},\n",
              "    'miles': {'estimated_diameter_max': 0.0364075085,\n",
              "     'estimated_diameter_min': 0.0162819328}},\n",
              "   'id': '54017404',\n",
              "   'is_potentially_hazardous_asteroid': False,\n",
              "   'is_sentry_object': False,\n",
              "   'links': {'self': 'http://www.neowsapp.com/rest/v1/neo/54017404?api_key=19Pdj0sljBhhoS6lnlIZEK6LTnsTEbKkvutr12f0'},\n",
              "   'name': '(2020 LQ)',\n",
              "   'nasa_jpl_url': 'http://ssd.jpl.nasa.gov/sbdb.cgi?sstr=54017404',\n",
              "   'neo_reference_id': '54017404'},\n",
              "  {'absolute_magnitude_h': 24.781,\n",
              "   'close_approach_data': [{'close_approach_date': '2020-06-06',\n",
              "     'close_approach_date_full': '2020-Jun-06 04:22',\n",
              "     'epoch_date_close_approach': 1591417320000,\n",
              "     'miss_distance': {'astronomical': '0.1477380806',\n",
              "      'kilometers': '22101302.175648322',\n",
              "      'lunar': '57.4701133534',\n",
              "      'miles': '13733112.3590659636'},\n",
              "     'orbiting_body': 'Earth',\n",
              "     'relative_velocity': {'kilometers_per_hour': '19650.3494313029',\n",
              "      'kilometers_per_second': '5.4584303976',\n",
              "      'miles_per_hour': '12209.962956356'}}],\n",
              "   'estimated_diameter': {'feet': {'estimated_diameter_max': 215.6875265051,\n",
              "     'estimated_diameter_min': 96.4583942329},\n",
              "    'kilometers': {'estimated_diameter_max': 0.065741556,\n",
              "     'estimated_diameter_min': 0.0294005176},\n",
              "    'meters': {'estimated_diameter_max': 65.741555975,\n",
              "     'estimated_diameter_min': 29.4005176214},\n",
              "    'miles': {'estimated_diameter_max': 0.0408498964,\n",
              "     'estimated_diameter_min': 0.018268629}},\n",
              "   'id': '54051325',\n",
              "   'is_potentially_hazardous_asteroid': False,\n",
              "   'is_sentry_object': False,\n",
              "   'links': {'self': 'http://www.neowsapp.com/rest/v1/neo/54051325?api_key=19Pdj0sljBhhoS6lnlIZEK6LTnsTEbKkvutr12f0'},\n",
              "   'name': '(2020 QD4)',\n",
              "   'nasa_jpl_url': 'http://ssd.jpl.nasa.gov/sbdb.cgi?sstr=54051325',\n",
              "   'neo_reference_id': '54051325'},\n",
              "  {'absolute_magnitude_h': 27.27,\n",
              "   'close_approach_data': [{'close_approach_date': '2020-06-06',\n",
              "     'close_approach_date_full': '2020-Jun-06 16:24',\n",
              "     'epoch_date_close_approach': 1591460640000,\n",
              "     'miss_distance': {'astronomical': '0.1333612697',\n",
              "      'kilometers': '19950561.887615539',\n",
              "      'lunar': '51.8775339133',\n",
              "      'miles': '12396704.3141468782'},\n",
              "     'orbiting_body': 'Earth',\n",
              "     'relative_velocity': {'kilometers_per_hour': '6083.3183638428',\n",
              "      'kilometers_per_second': '1.6898106566',\n",
              "      'miles_per_hour': '3779.9374578'}}],\n",
              "   'estimated_diameter': {'feet': {'estimated_diameter_max': 68.5527734825,\n",
              "     'estimated_diameter_min': 30.6577323106},\n",
              "    'kilometers': {'estimated_diameter_max': 0.0208948847,\n",
              "     'estimated_diameter_min': 0.0093444765},\n",
              "    'meters': {'estimated_diameter_max': 20.8948846888,\n",
              "     'estimated_diameter_min': 9.3444765092},\n",
              "    'miles': {'estimated_diameter_max': 0.0129834754,\n",
              "     'estimated_diameter_min': 0.0058063867}},\n",
              "   'id': '54087437',\n",
              "   'is_potentially_hazardous_asteroid': False,\n",
              "   'is_sentry_object': False,\n",
              "   'links': {'self': 'http://www.neowsapp.com/rest/v1/neo/54087437?api_key=19Pdj0sljBhhoS6lnlIZEK6LTnsTEbKkvutr12f0'},\n",
              "   'name': '(2020 VV)',\n",
              "   'nasa_jpl_url': 'http://ssd.jpl.nasa.gov/sbdb.cgi?sstr=54087437',\n",
              "   'neo_reference_id': '54087437'},\n",
              "  {'absolute_magnitude_h': 25.533,\n",
              "   'close_approach_data': [{'close_approach_date': '2020-06-06',\n",
              "     'close_approach_date_full': '2020-Jun-06 19:05',\n",
              "     'epoch_date_close_approach': 1591470300000,\n",
              "     'miss_distance': {'astronomical': '0.228166787',\n",
              "      'kilometers': '34133265.33994369',\n",
              "      'lunar': '88.756880143',\n",
              "      'miles': '21209427.588015322'},\n",
              "     'orbiting_body': 'Earth',\n",
              "     'relative_velocity': {'kilometers_per_hour': '34084.1941717227',\n",
              "      'kilometers_per_second': '9.4678317144',\n",
              "      'miles_per_hour': '21178.5927618685'}}],\n",
              "   'estimated_diameter': {'feet': {'estimated_diameter_max': 152.5545025181,\n",
              "     'estimated_diameter_min': 68.2244475808},\n",
              "    'kilometers': {'estimated_diameter_max': 0.0464986109,\n",
              "     'estimated_diameter_min': 0.020794811},\n",
              "    'meters': {'estimated_diameter_max': 46.4986108795,\n",
              "     'estimated_diameter_min': 20.7948109572},\n",
              "    'miles': {'estimated_diameter_max': 0.0288928883,\n",
              "     'estimated_diameter_min': 0.0129212925}},\n",
              "   'id': '54099646',\n",
              "   'is_potentially_hazardous_asteroid': False,\n",
              "   'is_sentry_object': False,\n",
              "   'links': {'self': 'http://www.neowsapp.com/rest/v1/neo/54099646?api_key=19Pdj0sljBhhoS6lnlIZEK6LTnsTEbKkvutr12f0'},\n",
              "   'name': '(2020 XE4)',\n",
              "   'nasa_jpl_url': 'http://ssd.jpl.nasa.gov/sbdb.cgi?sstr=54099646',\n",
              "   'neo_reference_id': '54099646'},\n",
              "  {'absolute_magnitude_h': 24.132,\n",
              "   'close_approach_data': [{'close_approach_date': '2020-06-06',\n",
              "     'close_approach_date_full': '2020-Jun-06 04:23',\n",
              "     'epoch_date_close_approach': 1591417380000,\n",
              "     'miss_distance': {'astronomical': '0.4594685529',\n",
              "      'kilometers': '68735516.845822323',\n",
              "      'lunar': '178.7332670781',\n",
              "      'miles': '42710269.6664731374'},\n",
              "     'orbiting_body': 'Earth',\n",
              "     'relative_velocity': {'kilometers_per_hour': '34590.6027444977',\n",
              "      'kilometers_per_second': '9.6085007624',\n",
              "      'miles_per_hour': '21493.2553553241'}}],\n",
              "   'estimated_diameter': {'feet': {'estimated_diameter_max': 290.820508857,\n",
              "     'estimated_diameter_min': 130.0588854111},\n",
              "    'kilometers': {'estimated_diameter_max': 0.0886420883,\n",
              "     'estimated_diameter_min': 0.039641947},\n",
              "    'meters': {'estimated_diameter_max': 88.6420882631,\n",
              "     'estimated_diameter_min': 39.6419470047},\n",
              "    'miles': {'estimated_diameter_max': 0.055079623,\n",
              "     'estimated_diameter_min': 0.0246323563}},\n",
              "   'id': '54102021',\n",
              "   'is_potentially_hazardous_asteroid': False,\n",
              "   'is_sentry_object': False,\n",
              "   'links': {'self': 'http://www.neowsapp.com/rest/v1/neo/54102021?api_key=19Pdj0sljBhhoS6lnlIZEK6LTnsTEbKkvutr12f0'},\n",
              "   'name': '(2020 YP3)',\n",
              "   'nasa_jpl_url': 'http://ssd.jpl.nasa.gov/sbdb.cgi?sstr=54102021',\n",
              "   'neo_reference_id': '54102021'}],\n",
              " '2020-06-07': [{'absolute_magnitude_h': 25.2,\n",
              "   'close_approach_data': [{'close_approach_date': '2020-06-07',\n",
              "     'close_approach_date_full': '2020-Jun-07 14:11',\n",
              "     'epoch_date_close_approach': 1591539060000,\n",
              "     'miss_distance': {'astronomical': '0.3378361943',\n",
              "      'kilometers': '50539575.076186141',\n",
              "      'lunar': '131.4182795827',\n",
              "      'miles': '31403835.7371291058'},\n",
              "     'orbiting_body': 'Earth',\n",
              "     'relative_velocity': {'kilometers_per_hour': '30130.7816324677',\n",
              "      'kilometers_per_second': '8.3696615646',\n",
              "      'miles_per_hour': '18722.0959537964'}}],\n",
              "   'estimated_diameter': {'feet': {'estimated_diameter_max': 177.8381901842,\n",
              "     'estimated_diameter_min': 79.5316564495},\n",
              "    'kilometers': {'estimated_diameter_max': 0.0542050786,\n",
              "     'estimated_diameter_min': 0.0242412481},\n",
              "    'meters': {'estimated_diameter_max': 54.2050786336,\n",
              "     'estimated_diameter_min': 24.2412481101},\n",
              "    'miles': {'estimated_diameter_max': 0.0336814639,\n",
              "     'estimated_diameter_min': 0.0150628086}},\n",
              "   'id': '3559843',\n",
              "   'is_potentially_hazardous_asteroid': False,\n",
              "   'is_sentry_object': False,\n",
              "   'links': {'self': 'http://www.neowsapp.com/rest/v1/neo/3559843?api_key=19Pdj0sljBhhoS6lnlIZEK6LTnsTEbKkvutr12f0'},\n",
              "   'name': '(2011 EP51)',\n",
              "   'nasa_jpl_url': 'http://ssd.jpl.nasa.gov/sbdb.cgi?sstr=3559843',\n",
              "   'neo_reference_id': '3559843'},\n",
              "  {'absolute_magnitude_h': 25.3,\n",
              "   'close_approach_data': [{'close_approach_date': '2020-06-07',\n",
              "     'close_approach_date_full': '2020-Jun-07 02:15',\n",
              "     'epoch_date_close_approach': 1591496100000,\n",
              "     'miss_distance': {'astronomical': '0.4173804816',\n",
              "      'kilometers': '62439231.026934192',\n",
              "      'lunar': '162.3610073424',\n",
              "      'miles': '38797939.0757961696'},\n",
              "     'orbiting_body': 'Earth',\n",
              "     'relative_velocity': {'kilometers_per_hour': '51575.4827580866',\n",
              "      'kilometers_per_second': '14.3265229884',\n",
              "      'miles_per_hour': '32046.9992726567'}}],\n",
              "   'estimated_diameter': {'feet': {'estimated_diameter_max': 169.8341531374,\n",
              "     'estimated_diameter_min': 75.9521422633},\n",
              "    'kilometers': {'estimated_diameter_max': 0.0517654482,\n",
              "     'estimated_diameter_min': 0.0231502122},\n",
              "    'meters': {'estimated_diameter_max': 51.7654482198,\n",
              "     'estimated_diameter_min': 23.150212221},\n",
              "    'miles': {'estimated_diameter_max': 0.0321655483,\n",
              "     'estimated_diameter_min': 0.0143848705}},\n",
              "   'id': '3753692',\n",
              "   'is_potentially_hazardous_asteroid': False,\n",
              "   'is_sentry_object': False,\n",
              "   'links': {'self': 'http://www.neowsapp.com/rest/v1/neo/3753692?api_key=19Pdj0sljBhhoS6lnlIZEK6LTnsTEbKkvutr12f0'},\n",
              "   'name': '(2016 LO1)',\n",
              "   'nasa_jpl_url': 'http://ssd.jpl.nasa.gov/sbdb.cgi?sstr=3753692',\n",
              "   'neo_reference_id': '3753692'},\n",
              "  {'absolute_magnitude_h': 25.2,\n",
              "   'close_approach_data': [{'close_approach_date': '2020-06-07',\n",
              "     'close_approach_date_full': '2020-Jun-07 09:01',\n",
              "     'epoch_date_close_approach': 1591520460000,\n",
              "     'miss_distance': {'astronomical': '0.1523694611',\n",
              "      'kilometers': '22794146.833607857',\n",
              "      'lunar': '59.2717203679',\n",
              "      'miles': '14163626.0663361466'},\n",
              "     'orbiting_body': 'Earth',\n",
              "     'relative_velocity': {'kilometers_per_hour': '18636.5870845502',\n",
              "      'kilometers_per_second': '5.1768297457',\n",
              "      'miles_per_hour': '11580.0504581751'}}],\n",
              "   'estimated_diameter': {'feet': {'estimated_diameter_max': 177.8381901842,\n",
              "     'estimated_diameter_min': 79.5316564495},\n",
              "    'kilometers': {'estimated_diameter_max': 0.0542050786,\n",
              "     'estimated_diameter_min': 0.0242412481},\n",
              "    'meters': {'estimated_diameter_max': 54.2050786336,\n",
              "     'estimated_diameter_min': 24.2412481101},\n",
              "    'miles': {'estimated_diameter_max': 0.0336814639,\n",
              "     'estimated_diameter_min': 0.0150628086}},\n",
              "   'id': '3825135',\n",
              "   'is_potentially_hazardous_asteroid': False,\n",
              "   'is_sentry_object': False,\n",
              "   'links': {'self': 'http://www.neowsapp.com/rest/v1/neo/3825135?api_key=19Pdj0sljBhhoS6lnlIZEK6LTnsTEbKkvutr12f0'},\n",
              "   'name': '(2018 LV2)',\n",
              "   'nasa_jpl_url': 'http://ssd.jpl.nasa.gov/sbdb.cgi?sstr=3825135',\n",
              "   'neo_reference_id': '3825135'},\n",
              "  {'absolute_magnitude_h': 25.441,\n",
              "   'close_approach_data': [{'close_approach_date': '2020-06-07',\n",
              "     'close_approach_date_full': '2020-Jun-07 07:14',\n",
              "     'epoch_date_close_approach': 1591514040000,\n",
              "     'miss_distance': {'astronomical': '0.0454738739',\n",
              "      'kilometers': '6802794.676088593',\n",
              "      'lunar': '17.6893369471',\n",
              "      'miles': '4227060.6003168634'},\n",
              "     'orbiting_body': 'Earth',\n",
              "     'relative_velocity': {'kilometers_per_hour': '42892.5276951642',\n",
              "      'kilometers_per_second': '11.9145910264',\n",
              "      'miles_per_hour': '26651.7486670313'}}],\n",
              "   'estimated_diameter': {'feet': {'estimated_diameter_max': 159.1567381942,\n",
              "     'estimated_diameter_min': 71.1770571359},\n",
              "    'kilometers': {'estimated_diameter_max': 0.0485109722,\n",
              "     'estimated_diameter_min': 0.0216947663},\n",
              "    'meters': {'estimated_diameter_max': 48.5109722492,\n",
              "     'estimated_diameter_min': 21.6947663208},\n",
              "    'miles': {'estimated_diameter_max': 0.0301433113,\n",
              "     'estimated_diameter_min': 0.0134804986}},\n",
              "   'id': '54017187',\n",
              "   'is_potentially_hazardous_asteroid': False,\n",
              "   'is_sentry_object': False,\n",
              "   'links': {'self': 'http://www.neowsapp.com/rest/v1/neo/54017187?api_key=19Pdj0sljBhhoS6lnlIZEK6LTnsTEbKkvutr12f0'},\n",
              "   'name': '(2020 KK3)',\n",
              "   'nasa_jpl_url': 'http://ssd.jpl.nasa.gov/sbdb.cgi?sstr=54017187',\n",
              "   'neo_reference_id': '54017187'},\n",
              "  {'absolute_magnitude_h': 25.361,\n",
              "   'close_approach_data': [{'close_approach_date': '2020-06-07',\n",
              "     'close_approach_date_full': '2020-Jun-07 06:33',\n",
              "     'epoch_date_close_approach': 1591511580000,\n",
              "     'miss_distance': {'astronomical': '0.0265363867',\n",
              "      'kilometers': '3969786.927816329',\n",
              "      'lunar': '10.3226544263',\n",
              "      'miles': '2466711.2140261802'},\n",
              "     'orbiting_body': 'Earth',\n",
              "     'relative_velocity': {'kilometers_per_hour': '26431.5264722034',\n",
              "      'kilometers_per_second': '7.3420906867',\n",
              "      'miles_per_hour': '16423.522657131'}}],\n",
              "   'estimated_diameter': {'feet': {'estimated_diameter_max': 165.1296384454,\n",
              "     'estimated_diameter_min': 73.8482193328},\n",
              "    'kilometers': {'estimated_diameter_max': 0.0503315122,\n",
              "     'estimated_diameter_min': 0.0225089365},\n",
              "    'meters': {'estimated_diameter_max': 50.3315121876,\n",
              "     'estimated_diameter_min': 22.5089365323},\n",
              "    'miles': {'estimated_diameter_max': 0.0312745421,\n",
              "     'estimated_diameter_min': 0.0139864004}},\n",
              "   'id': '54017303',\n",
              "   'is_potentially_hazardous_asteroid': False,\n",
              "   'is_sentry_object': False,\n",
              "   'links': {'self': 'http://www.neowsapp.com/rest/v1/neo/54017303?api_key=19Pdj0sljBhhoS6lnlIZEK6LTnsTEbKkvutr12f0'},\n",
              "   'name': '(2020 KA7)',\n",
              "   'nasa_jpl_url': 'http://ssd.jpl.nasa.gov/sbdb.cgi?sstr=54017303',\n",
              "   'neo_reference_id': '54017303'},\n",
              "  {'absolute_magnitude_h': 24.735,\n",
              "   'close_approach_data': [{'close_approach_date': '2020-06-07',\n",
              "     'close_approach_date_full': '2020-Jun-07 15:10',\n",
              "     'epoch_date_close_approach': 1591542600000,\n",
              "     'miss_distance': {'astronomical': '0.0247124397',\n",
              "      'kilometers': '3696928.341623439',\n",
              "      'lunar': '9.6131390433',\n",
              "      'miles': '2297164.7505398982'},\n",
              "     'orbiting_body': 'Earth',\n",
              "     'relative_velocity': {'kilometers_per_hour': '54254.5811837986',\n",
              "      'kilometers_per_second': '15.0707169955',\n",
              "      'miles_per_hour': '33711.6868472331'}}],\n",
              "   'estimated_diameter': {'feet': {'estimated_diameter_max': 220.3053429549,\n",
              "     'estimated_diameter_min': 98.5235445307},\n",
              "    'kilometers': {'estimated_diameter_max': 0.0671490664,\n",
              "     'estimated_diameter_min': 0.0300299754},\n",
              "    'meters': {'estimated_diameter_max': 67.1490663839,\n",
              "     'estimated_diameter_min': 30.029975412},\n",
              "    'miles': {'estimated_diameter_max': 0.0417244825,\n",
              "     'estimated_diameter_min': 0.0186597559}},\n",
              "   'id': '54017401',\n",
              "   'is_potentially_hazardous_asteroid': False,\n",
              "   'is_sentry_object': False,\n",
              "   'links': {'self': 'http://www.neowsapp.com/rest/v1/neo/54017401?api_key=19Pdj0sljBhhoS6lnlIZEK6LTnsTEbKkvutr12f0'},\n",
              "   'name': '(2020 LM)',\n",
              "   'nasa_jpl_url': 'http://ssd.jpl.nasa.gov/sbdb.cgi?sstr=54017401',\n",
              "   'neo_reference_id': '54017401'},\n",
              "  {'absolute_magnitude_h': 26.581,\n",
              "   'close_approach_data': [{'close_approach_date': '2020-06-07',\n",
              "     'close_approach_date_full': '2020-Jun-07 12:31',\n",
              "     'epoch_date_close_approach': 1591533060000,\n",
              "     'miss_distance': {'astronomical': '0.3370521336',\n",
              "      'kilometers': '50422281.265515432',\n",
              "      'lunar': '131.1132799704',\n",
              "      'miles': '31330952.7428076816'},\n",
              "     'orbiting_body': 'Earth',\n",
              "     'relative_velocity': {'kilometers_per_hour': '36344.6650767308',\n",
              "      'kilometers_per_second': '10.0957402991',\n",
              "      'miles_per_hour': '22583.1614750387'}}],\n",
              "   'estimated_diameter': {'feet': {'estimated_diameter_max': 94.1510201362,\n",
              "     'estimated_diameter_min': 42.1056162351},\n",
              "    'kilometers': {'estimated_diameter_max': 0.02869723,\n",
              "     'estimated_diameter_min': 0.0128337914},\n",
              "    'meters': {'estimated_diameter_max': 28.6972300192,\n",
              "     'estimated_diameter_min': 12.8337914178},\n",
              "    'miles': {'estimated_diameter_max': 0.0178316265,\n",
              "     'estimated_diameter_min': 0.0079745458}},\n",
              "   'id': '54087782',\n",
              "   'is_potentially_hazardous_asteroid': False,\n",
              "   'is_sentry_object': False,\n",
              "   'links': {'self': 'http://www.neowsapp.com/rest/v1/neo/54087782?api_key=19Pdj0sljBhhoS6lnlIZEK6LTnsTEbKkvutr12f0'},\n",
              "   'name': '(2020 VF4)',\n",
              "   'nasa_jpl_url': 'http://ssd.jpl.nasa.gov/sbdb.cgi?sstr=54087782',\n",
              "   'neo_reference_id': '54087782'},\n",
              "  {'absolute_magnitude_h': 26.899,\n",
              "   'close_approach_data': [{'close_approach_date': '2020-06-07',\n",
              "     'close_approach_date_full': '2020-Jun-07 22:11',\n",
              "     'epoch_date_close_approach': 1591567860000,\n",
              "     'miss_distance': {'astronomical': '0.4272373491',\n",
              "      'kilometers': '63913797.409806417',\n",
              "      'lunar': '166.1953287999',\n",
              "      'miles': '39714192.1388938746'},\n",
              "     'orbiting_body': 'Earth',\n",
              "     'relative_velocity': {'kilometers_per_hour': '53085.6984257392',\n",
              "      'kilometers_per_second': '14.7460273405',\n",
              "      'miles_per_hour': '32985.3885579266'}}],\n",
              "   'estimated_diameter': {'feet': {'estimated_diameter_max': 81.3251794026,\n",
              "     'estimated_diameter_min': 36.3697258853},\n",
              "    'kilometers': {'estimated_diameter_max': 0.0247879139,\n",
              "     'estimated_diameter_min': 0.0110854921},\n",
              "    'meters': {'estimated_diameter_max': 24.7879138887,\n",
              "     'estimated_diameter_min': 11.0854920951},\n",
              "    'miles': {'estimated_diameter_max': 0.0154024908,\n",
              "     'estimated_diameter_min': 0.0068882033}},\n",
              "   'id': '54099950',\n",
              "   'is_potentially_hazardous_asteroid': False,\n",
              "   'is_sentry_object': False,\n",
              "   'links': {'self': 'http://www.neowsapp.com/rest/v1/neo/54099950?api_key=19Pdj0sljBhhoS6lnlIZEK6LTnsTEbKkvutr12f0'},\n",
              "   'name': '(2020 XY4)',\n",
              "   'nasa_jpl_url': 'http://ssd.jpl.nasa.gov/sbdb.cgi?sstr=54099950',\n",
              "   'neo_reference_id': '54099950'}]}"
            ]
          },
          "metadata": {
            "tags": []
          },
          "execution_count": 7
        }
      ]
    },
    {
      "cell_type": "markdown",
      "metadata": {
        "id": "5YyP8IxojVQ8"
      },
      "source": [
        "If you want to extract all near earth objects information on this day, you can iterate over like this in the dictionary and print everything."
      ]
    },
    {
      "cell_type": "code",
      "metadata": {
        "colab": {
          "base_uri": "https://localhost:8080/"
        },
        "id": "mZBkx2Rni3C9",
        "outputId": "a05946e6-1b39-43b1-e34c-f8bea8cef96d"
      },
      "source": [
        "for near in neo[start_date]:\r\n",
        "    print(near['id'], near['name'], near['absolute_magnitude_h'])"
      ],
      "execution_count": 11,
      "outputs": [
        {
          "output_type": "stream",
          "text": [
            "2163348 163348 (2002 NN4) 20.1\n",
            "2471926 471926 Jormungandr (2013 KN6) 18.6\n",
            "3398654 (2007 YS56) 25.7\n",
            "3672459 (2014 KG39) 24.9\n",
            "54017119 (2020 KO1) 24.93\n",
            "54017121 (2020 KQ1) 24.161\n",
            "54017129 (2020 KS1) 21.29\n",
            "54017329 (2020 LA) 25.221\n",
            "54017404 (2020 LQ) 25.031\n",
            "54051325 (2020 QD4) 24.781\n",
            "54087437 (2020 VV) 27.27\n",
            "54099646 (2020 XE4) 25.533\n",
            "54102021 (2020 YP3) 24.132\n"
          ],
          "name": "stdout"
        }
      ]
    },
    {
      "cell_type": "markdown",
      "metadata": {
        "id": "VWs6BIe0j_Kf"
      },
      "source": [
        "You can also extract information of any particular one by passing the correct index"
      ]
    },
    {
      "cell_type": "code",
      "metadata": {
        "id": "SUvDa3p47KXh",
        "colab": {
          "base_uri": "https://localhost:8080/",
          "height": 508
        },
        "outputId": "65f477e4-0273-4f26-d289-ae3904b2f8ca"
      },
      "source": [
        "# asteroids by index in the list\n",
        "\n",
        "first = neo[start_date][0]\n",
        "first"
      ],
      "execution_count": null,
      "outputs": [
        {
          "output_type": "execute_result",
          "data": {
            "text/plain": [
              "{'absolute_magnitude_h': 21.395,\n",
              " 'close_approach_data': [{'close_approach_date': '2020-06-06',\n",
              "   'close_approach_date_full': '2020-Jun-06 05:41',\n",
              "   'epoch_date_close_approach': 1591422060000,\n",
              "   'miss_distance': {'astronomical': '0.3682562296',\n",
              "    'kilometers': '55090347.562390952',\n",
              "    'lunar': '143.2516733144',\n",
              "    'miles': '34231554.6369890576'},\n",
              "   'orbiting_body': 'Earth',\n",
              "   'relative_velocity': {'kilometers_per_hour': '34399.79319784',\n",
              "    'kilometers_per_second': '9.5554981105',\n",
              "    'miles_per_hour': '21374.6937234023'}}],\n",
              " 'estimated_diameter': {'feet': {'estimated_diameter_max': 1025.7110400861,\n",
              "   'estimated_diameter_min': 458.7119221809},\n",
              "  'kilometers': {'estimated_diameter_max': 0.312636715,\n",
              "   'estimated_diameter_min': 0.1398153894},\n",
              "  'meters': {'estimated_diameter_max': 312.6367150139,\n",
              "   'estimated_diameter_min': 139.8153894066},\n",
              "  'miles': {'estimated_diameter_max': 0.1942633882,\n",
              "   'estimated_diameter_min': 0.0868772283}},\n",
              " 'id': '54017129',\n",
              " 'is_potentially_hazardous_asteroid': False,\n",
              " 'is_sentry_object': False,\n",
              " 'links': {'self': 'http://www.neowsapp.com/rest/v1/neo/54017129?api_key=19Pdj0sljBhhoS6lnlIZEK6LTnsTEbKkvutr12f0'},\n",
              " 'name': '(2020 KS1)',\n",
              " 'nasa_jpl_url': 'http://ssd.jpl.nasa.gov/sbdb.cgi?sstr=54017129',\n",
              " 'neo_reference_id': '54017129'}"
            ]
          },
          "metadata": {
            "tags": []
          },
          "execution_count": 14
        }
      ]
    },
    {
      "cell_type": "markdown",
      "metadata": {
        "id": "nFPEE3IVkphf"
      },
      "source": [
        "## Searching About Asteroid : 163348 (2002 NN4)"
      ]
    },
    {
      "cell_type": "code",
      "metadata": {
        "id": "y2-tUrUf7KXm",
        "colab": {
          "base_uri": "https://localhost:8080/",
          "height": 508
        },
        "outputId": "e5b85665-a8f0-48ea-e7c5-1dfea6b93a33"
      },
      "source": [
        "# finding info by name\n",
        "\n",
        "all_asteroids = neo[start_date]\n",
        "for asteroid in all_asteroids:\n",
        "    if asteroid['name'] == '163348 (2002 NN4)':\n",
        "        pprint(asteroid)\n",
        "        break"
      ],
      "execution_count": null,
      "outputs": [
        {
          "output_type": "stream",
          "text": [
            "{'absolute_magnitude_h': 20.1,\n",
            " 'close_approach_data': [{'close_approach_date': '2020-06-06',\n",
            "                          'close_approach_date_full': '2020-Jun-06 03:20',\n",
            "                          'epoch_date_close_approach': 1591413600000,\n",
            "                          'miss_distance': {'astronomical': '0.0340483556',\n",
            "                                            'kilometers': '5093561.474762572',\n",
            "                                            'lunar': '13.2448103284',\n",
            "                                            'miles': '3164992.3377726136'},\n",
            "                          'orbiting_body': 'Earth',\n",
            "                          'relative_velocity': {'kilometers_per_hour': '40126.2500767766',\n",
            "                                                'kilometers_per_second': '11.1461805769',\n",
            "                                                'miles_per_hour': '24932.8913324282'}}],\n",
            " 'estimated_diameter': {'feet': {'estimated_diameter_max': 1862.1944587557,\n",
            "                                 'estimated_diameter_min': 832.7986794202},\n",
            "                        'kilometers': {'estimated_diameter_max': 0.5675968529,\n",
            "                                       'estimated_diameter_min': 0.2538370294},\n",
            "                        'meters': {'estimated_diameter_max': 567.5968528656,\n",
            "                                   'estimated_diameter_min': 253.8370293645},\n",
            "                        'miles': {'estimated_diameter_max': 0.3526882241,\n",
            "                                  'estimated_diameter_min': 0.1577269688}},\n",
            " 'id': '2163348',\n",
            " 'is_potentially_hazardous_asteroid': True,\n",
            " 'is_sentry_object': False,\n",
            " 'links': {'self': 'http://www.neowsapp.com/rest/v1/neo/2163348?api_key=19Pdj0sljBhhoS6lnlIZEK6LTnsTEbKkvutr12f0'},\n",
            " 'name': '163348 (2002 NN4)',\n",
            " 'nasa_jpl_url': 'http://ssd.jpl.nasa.gov/sbdb.cgi?sstr=2163348',\n",
            " 'neo_reference_id': '2163348'}\n"
          ],
          "name": "stdout"
        }
      ]
    },
    {
      "cell_type": "code",
      "metadata": {
        "id": "9O8qjCPu7KXx",
        "colab": {
          "base_uri": "https://localhost:8080/",
          "height": 35
        },
        "outputId": "9113e34e-650b-4dd0-cf19-635573acf148"
      },
      "source": [
        "# asteroid name\n",
        "\n",
        "asteroid['name']"
      ],
      "execution_count": null,
      "outputs": [
        {
          "output_type": "execute_result",
          "data": {
            "text/plain": [
              "'163348 (2002 NN4)'"
            ]
          },
          "metadata": {
            "tags": []
          },
          "execution_count": 16
        }
      ]
    },
    {
      "cell_type": "code",
      "metadata": {
        "id": "D3AxUbR07KX2",
        "colab": {
          "base_uri": "https://localhost:8080/",
          "height": 35
        },
        "outputId": "66f97082-e14e-4476-c75d-dc204c5dd9fa"
      },
      "source": [
        "# asteroid id\n",
        "\n",
        "asteroid['id']"
      ],
      "execution_count": null,
      "outputs": [
        {
          "output_type": "execute_result",
          "data": {
            "text/plain": [
              "'2163348'"
            ]
          },
          "metadata": {
            "tags": []
          },
          "execution_count": 17
        }
      ]
    },
    {
      "cell_type": "code",
      "metadata": {
        "id": "rpfm7pCi7KX9",
        "colab": {
          "base_uri": "https://localhost:8080/",
          "height": 35
        },
        "outputId": "14adea07-d863-4d55-b320-124e68f13d42"
      },
      "source": [
        "# nasa url\n",
        "\n",
        "asteroid['nasa_jpl_url']"
      ],
      "execution_count": null,
      "outputs": [
        {
          "output_type": "execute_result",
          "data": {
            "text/plain": [
              "'http://ssd.jpl.nasa.gov/sbdb.cgi?sstr=2163348'"
            ]
          },
          "metadata": {
            "tags": []
          },
          "execution_count": 18
        }
      ]
    },
    {
      "cell_type": "code",
      "metadata": {
        "id": "B366OFam7KYD",
        "colab": {
          "base_uri": "https://localhost:8080/",
          "height": 35
        },
        "outputId": "6be82a3b-0826-47a3-a9fe-4785b2f08de7"
      },
      "source": [
        "# Absolute magnitude : luminosity\n",
        "\n",
        "asteroid['absolute_magnitude_h']"
      ],
      "execution_count": null,
      "outputs": [
        {
          "output_type": "execute_result",
          "data": {
            "text/plain": [
              "20.1"
            ]
          },
          "metadata": {
            "tags": []
          },
          "execution_count": 19
        }
      ]
    },
    {
      "cell_type": "code",
      "metadata": {
        "id": "iTLEW7Ir7KYJ",
        "colab": {
          "base_uri": "https://localhost:8080/",
          "height": 163
        },
        "outputId": "0a110ec1-4102-434d-ccde-9e1417a670c0"
      },
      "source": [
        "# diameter\n",
        "\n",
        "dia = asteroid['estimated_diameter']\n",
        "dia"
      ],
      "execution_count": null,
      "outputs": [
        {
          "output_type": "execute_result",
          "data": {
            "text/plain": [
              "{'feet': {'estimated_diameter_max': 1862.1944587557,\n",
              "  'estimated_diameter_min': 832.7986794202},\n",
              " 'kilometers': {'estimated_diameter_max': 0.5675968529,\n",
              "  'estimated_diameter_min': 0.2538370294},\n",
              " 'meters': {'estimated_diameter_max': 567.5968528656,\n",
              "  'estimated_diameter_min': 253.8370293645},\n",
              " 'miles': {'estimated_diameter_max': 0.3526882241,\n",
              "  'estimated_diameter_min': 0.1577269688}}"
            ]
          },
          "metadata": {
            "tags": []
          },
          "execution_count": 20
        }
      ]
    },
    {
      "cell_type": "code",
      "metadata": {
        "id": "pg-YbpyX7KYR",
        "colab": {
          "base_uri": "https://localhost:8080/",
          "height": 35
        },
        "outputId": "3e69b48a-1d5a-46a2-f609-4106be8fd1f0"
      },
      "source": [
        "# average diameter\n",
        "\n",
        "avg_dia_m = (dia['meters']['estimated_diameter_min'] + dia['meters']['estimated_diameter_max']) / 2\n",
        "avg_dia_m"
      ],
      "execution_count": null,
      "outputs": [
        {
          "output_type": "execute_result",
          "data": {
            "text/plain": [
              "410.71694111505"
            ]
          },
          "metadata": {
            "tags": []
          },
          "execution_count": 21
        }
      ]
    },
    {
      "cell_type": "code",
      "metadata": {
        "id": "NqDn-R8T7KYW",
        "colab": {
          "base_uri": "https://localhost:8080/",
          "height": 35
        },
        "outputId": "38a88bc7-7ada-46eb-bd6d-c2974c42f094"
      },
      "source": [
        "# is potentially hazardous\n",
        "\n",
        "asteroid['is_potentially_hazardous_asteroid']"
      ],
      "execution_count": null,
      "outputs": [
        {
          "output_type": "execute_result",
          "data": {
            "text/plain": [
              "True"
            ]
          },
          "metadata": {
            "tags": []
          },
          "execution_count": 22
        }
      ]
    },
    {
      "cell_type": "code",
      "metadata": {
        "id": "NP0HQSeN7KYb",
        "colab": {
          "base_uri": "https://localhost:8080/",
          "height": 217
        },
        "outputId": "5a099fd2-b4b4-4e7d-dbcd-fc1e76fc6b06"
      },
      "source": [
        "# close approach date\n",
        "\n",
        "close_data = asteroid['close_approach_data']\n",
        "pprint(close_data)"
      ],
      "execution_count": null,
      "outputs": [
        {
          "output_type": "stream",
          "text": [
            "[{'close_approach_date': '2020-06-06',\n",
            "  'close_approach_date_full': '2020-Jun-06 03:20',\n",
            "  'epoch_date_close_approach': 1591413600000,\n",
            "  'miss_distance': {'astronomical': '0.0340483556',\n",
            "                    'kilometers': '5093561.474762572',\n",
            "                    'lunar': '13.2448103284',\n",
            "                    'miles': '3164992.3377726136'},\n",
            "  'orbiting_body': 'Earth',\n",
            "  'relative_velocity': {'kilometers_per_hour': '40126.2500767766',\n",
            "                        'kilometers_per_second': '11.1461805769',\n",
            "                        'miles_per_hour': '24932.8913324282'}}]\n"
          ],
          "name": "stdout"
        }
      ]
    },
    {
      "cell_type": "markdown",
      "metadata": {
        "id": "OM9dYEQO8shy"
      },
      "source": [
        "Asteroids making close approach\n",
        "\n",
        "url : [Earth Close approaches](https://cneos.jpl.nasa.gov/ca/)"
      ]
    },
    {
      "cell_type": "code",
      "metadata": {
        "id": "JeUKW5DU7KYi",
        "colab": {
          "base_uri": "https://localhost:8080/",
          "height": 35
        },
        "outputId": "af539ee3-8a01-43af-8a17-cafa63f41436"
      },
      "source": [
        "from time import ctime\n",
        "\n",
        "date = close_data[0]['epoch_date_close_approach']\n",
        "ctime(date)"
      ],
      "execution_count": null,
      "outputs": [
        {
          "output_type": "execute_result",
          "data": {
            "text/plain": [
              "'Sun Nov 21 21:20:00 52399'"
            ]
          },
          "metadata": {
            "tags": []
          },
          "execution_count": 30
        }
      ]
    },
    {
      "cell_type": "code",
      "metadata": {
        "id": "wRO098L77KYn",
        "colab": {
          "base_uri": "https://localhost:8080/",
          "height": 90
        },
        "outputId": "cf7574ff-8089-4765-ec89-823208dd3d61"
      },
      "source": [
        "# miss distance\n",
        "\n",
        "miss_distance = close_data[0]['miss_distance']\n",
        "miss_distance"
      ],
      "execution_count": null,
      "outputs": [
        {
          "output_type": "execute_result",
          "data": {
            "text/plain": [
              "{'astronomical': '0.0340483556',\n",
              " 'kilometers': '5093561.474762572',\n",
              " 'lunar': '13.2448103284',\n",
              " 'miles': '3164992.3377726136'}"
            ]
          },
          "metadata": {
            "tags": []
          },
          "execution_count": 25
        }
      ]
    },
    {
      "cell_type": "code",
      "metadata": {
        "id": "bvSmDe_j7KYw",
        "colab": {
          "base_uri": "https://localhost:8080/",
          "height": 72
        },
        "outputId": "b5156be0-9c6d-42cf-d5aa-8614fb154bee"
      },
      "source": [
        "# relative_velocity\n",
        "\n",
        "rel_vel = close_data[0]['relative_velocity']\n",
        "rel_vel"
      ],
      "execution_count": null,
      "outputs": [
        {
          "output_type": "execute_result",
          "data": {
            "text/plain": [
              "{'kilometers_per_hour': '40126.2500767766',\n",
              " 'kilometers_per_second': '11.1461805769',\n",
              " 'miles_per_hour': '24932.8913324282'}"
            ]
          },
          "metadata": {
            "tags": []
          },
          "execution_count": 26
        }
      ]
    },
    {
      "cell_type": "code",
      "metadata": {
        "id": "W0Ne3RAW7KY3",
        "colab": {
          "base_uri": "https://localhost:8080/",
          "height": 35
        },
        "outputId": "c39130b7-3672-43ed-c0d3-c99ad3426eaa"
      },
      "source": [
        "# is sentry object\n",
        "\n",
        "asteroid['is_sentry_object']"
      ],
      "execution_count": null,
      "outputs": [
        {
          "output_type": "execute_result",
          "data": {
            "text/plain": [
              "False"
            ]
          },
          "metadata": {
            "tags": []
          },
          "execution_count": 27
        }
      ]
    }
  ]
}